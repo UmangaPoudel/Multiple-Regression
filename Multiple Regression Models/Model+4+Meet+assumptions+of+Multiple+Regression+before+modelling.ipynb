{
 "cells": [
  {
   "cell_type": "code",
   "execution_count": 1,
   "metadata": {
    "collapsed": true
   },
   "outputs": [],
   "source": [
    "import pandas as pd\n",
    "import numpy as np\n",
    "import matplotlib.pyplot as plt\n",
    "import seaborn as sns\n",
    "%matplotlib inline"
   ]
  },
  {
   "cell_type": "code",
   "execution_count": 2,
   "metadata": {
    "collapsed": true
   },
   "outputs": [],
   "source": [
    "data = pd.read_csv('acs_ny.csv')"
   ]
  },
  {
   "cell_type": "markdown",
   "metadata": {},
   "source": [
    "Looking at our visualizations that we did first, we use pearson's R to compare continuous variables and sperman's r to compare categorical variables."
   ]
  },
  {
   "cell_type": "code",
   "execution_count": 3,
   "metadata": {},
   "outputs": [
    {
     "data": {
      "text/plain": [
       "Index(['Acres', 'FamilyIncome', 'FamilyType', 'NumBedrooms', 'NumChildren',\n",
       "       'NumPeople', 'NumRooms', 'NumUnits', 'NumVehicles', 'NumWorkers',\n",
       "       'OwnRent', 'YearBuilt', 'HouseCosts', 'ElectricBill', 'FoodStamp',\n",
       "       'HeatingFuel', 'Insurance', 'Language'],\n",
       "      dtype='object')"
      ]
     },
     "execution_count": 3,
     "metadata": {},
     "output_type": "execute_result"
    }
   ],
   "source": [
    "data.columns"
   ]
  },
  {
   "cell_type": "markdown",
   "metadata": {},
   "source": [
    "I am going to check which categorical variables have more impact on FamilyIncome"
   ]
  },
  {
   "cell_type": "code",
   "execution_count": 6,
   "metadata": {},
   "outputs": [
    {
     "name": "stdout",
     "output_type": "stream",
     "text": [
      "    Acres   FamilyIncome\n",
      "0     10+   97389.628486\n",
      "1  10-Jan  111636.585909\n",
      "2   Sub 1  110671.252776\n"
     ]
    }
   ],
   "source": [
    "print (data[[\"Acres\", \"FamilyIncome\"]].groupby(['Acres'], as_index=False).mean())"
   ]
  },
  {
   "cell_type": "code",
   "execution_count": 9,
   "metadata": {},
   "outputs": [
    {
     "name": "stdout",
     "output_type": "stream",
     "text": [
      "    FamilyType   FamilyIncome\n",
      "0  Female Head   60850.583282\n",
      "1    Male Head   74263.688638\n",
      "2      Married  121356.840118\n"
     ]
    }
   ],
   "source": [
    "print (data[[\"FamilyType\", \"FamilyIncome\"]].groupby(['FamilyType'], as_index=False).mean())"
   ]
  },
  {
   "cell_type": "code",
   "execution_count": 10,
   "metadata": {},
   "outputs": [
    {
     "name": "stdout",
     "output_type": "stream",
     "text": [
      "   NumBedrooms   FamilyIncome\n",
      "0            0   74552.121212\n",
      "1            1   61602.025974\n",
      "2            2   74946.326669\n",
      "3            3   97750.189341\n",
      "4            4  131370.870893\n",
      "5            5  163146.053687\n",
      "6            8  174883.902033\n"
     ]
    }
   ],
   "source": [
    "print (data[[\"NumBedrooms\", \"FamilyIncome\"]].groupby(['NumBedrooms'], as_index=False).mean())"
   ]
  },
  {
   "cell_type": "code",
   "execution_count": 11,
   "metadata": {},
   "outputs": [
    {
     "name": "stdout",
     "output_type": "stream",
     "text": [
      "    NumChildren   FamilyIncome\n",
      "0             0  106584.894997\n",
      "1             1  108440.171665\n",
      "2             2  119009.694826\n",
      "3             3  122769.560856\n",
      "4             4  103504.732824\n",
      "5             5   99076.380952\n",
      "6             6  100900.648649\n",
      "7             7   44404.666667\n",
      "8             8   52500.000000\n",
      "9             9   35200.000000\n",
      "10           10   50915.000000\n",
      "11           12   81600.000000\n"
     ]
    }
   ],
   "source": [
    "print (data[[\"NumChildren\", \"FamilyIncome\"]].groupby(['NumChildren'], as_index=False).mean())"
   ]
  },
  {
   "cell_type": "code",
   "execution_count": 12,
   "metadata": {},
   "outputs": [
    {
     "name": "stdout",
     "output_type": "stream",
     "text": [
      "    NumPeople   FamilyIncome\n",
      "0           2   97046.045656\n",
      "1           3  108412.038269\n",
      "2           4  123143.581521\n",
      "3           5  123610.667961\n",
      "4           6  117470.004444\n",
      "5           7  111522.473846\n",
      "6           8  111375.826923\n",
      "7           9  102453.061728\n",
      "8          10  105157.105263\n",
      "9          11   94638.888889\n",
      "10         12  106592.500000\n",
      "11         13  108900.000000\n",
      "12         15   68300.000000\n",
      "13         16  200200.000000\n",
      "14         18  157960.000000\n"
     ]
    }
   ],
   "source": [
    "print (data[[\"NumPeople\", \"FamilyIncome\"]].groupby(['NumPeople'], as_index=False).mean())"
   ]
  },
  {
   "cell_type": "code",
   "execution_count": 13,
   "metadata": {},
   "outputs": [
    {
     "name": "stdout",
     "output_type": "stream",
     "text": [
      "          NumUnits   FamilyIncome\n",
      "0      Mobile home   47483.238558\n",
      "1  Single attached  100504.674507\n",
      "2  Single detached  113771.442499\n"
     ]
    }
   ],
   "source": [
    "print (data[[\"NumUnits\", \"FamilyIncome\"]].groupby(['NumUnits'], as_index=False).mean())"
   ]
  },
  {
   "cell_type": "code",
   "execution_count": 14,
   "metadata": {},
   "outputs": [
    {
     "name": "stdout",
     "output_type": "stream",
     "text": [
      "   NumVehicles   FamilyIncome\n",
      "0            0   64546.568828\n",
      "1            1   74806.600494\n",
      "2            2  113359.209624\n",
      "3            3  128760.206499\n",
      "4            4  146387.449630\n",
      "5            5  157359.886792\n",
      "6            6  150355.096774\n"
     ]
    }
   ],
   "source": [
    "print (data[[\"NumVehicles\", \"FamilyIncome\"]].groupby(['NumVehicles'], as_index=False).mean())"
   ]
  },
  {
   "cell_type": "code",
   "execution_count": 15,
   "metadata": {},
   "outputs": [
    {
     "name": "stdout",
     "output_type": "stream",
     "text": [
      "   NumWorkers   FamilyIncome\n",
      "0           0   51550.829940\n",
      "1           1   89827.271090\n",
      "2           2  121339.056694\n",
      "3           3  138042.471258\n"
     ]
    }
   ],
   "source": [
    "print (data[[\"NumWorkers\", \"FamilyIncome\"]].groupby(['NumWorkers'], as_index=False).mean())"
   ]
  },
  {
   "cell_type": "code",
   "execution_count": 16,
   "metadata": {},
   "outputs": [
    {
     "name": "stdout",
     "output_type": "stream",
     "text": [
      "    OwnRent   FamilyIncome\n",
      "0  Mortgage  117122.223467\n",
      "1  Outright  112983.694268\n",
      "2    Rented   55143.930000\n"
     ]
    }
   ],
   "source": [
    "print (data[[\"OwnRent\", \"FamilyIncome\"]].groupby(['OwnRent'], as_index=False).mean())"
   ]
  },
  {
   "cell_type": "code",
   "execution_count": 18,
   "metadata": {},
   "outputs": [
    {
     "name": "stdout",
     "output_type": "stream",
     "text": [
      "      YearBuilt   FamilyIncome\n",
      "0            15   89607.333333\n",
      "1     1940-1949  100841.288040\n",
      "2     1950-1959  113841.226828\n",
      "3     1960-1969  114866.615635\n",
      "4     1970-1979  106516.868085\n",
      "5     1980-1989  114882.158690\n",
      "6     1990-1999  114773.528079\n",
      "7     2000-2004  122748.533463\n",
      "8          2005  136434.094595\n",
      "9          2006  129836.977901\n",
      "10         2007  128283.935484\n",
      "11         2008  117252.000000\n",
      "12         2009  111362.457831\n",
      "13         2010  156745.918367\n",
      "14  Before 1939  102600.280216\n"
     ]
    }
   ],
   "source": [
    "print (data[[\"YearBuilt\", \"FamilyIncome\"]].groupby(['YearBuilt'], as_index=False).mean())"
   ]
  },
  {
   "cell_type": "code",
   "execution_count": 19,
   "metadata": {},
   "outputs": [
    {
     "name": "stdout",
     "output_type": "stream",
     "text": [
      "  FoodStamp   FamilyIncome\n",
      "0        No  115476.583961\n",
      "1       Yes   48754.160361\n"
     ]
    }
   ],
   "source": [
    "print (data[[\"FoodStamp\", \"FamilyIncome\"]].groupby(['FoodStamp'], as_index=False).mean())"
   ]
  },
  {
   "cell_type": "code",
   "execution_count": 20,
   "metadata": {},
   "outputs": [
    {
     "name": "stdout",
     "output_type": "stream",
     "text": [
      "   HeatingFuel   FamilyIncome\n",
      "0         Coal   77704.096154\n",
      "1  Electricity   97564.523438\n",
      "2          Gas  111222.965247\n",
      "3         None   98398.260870\n",
      "4          Oil  117499.955730\n",
      "5        Other   88582.659574\n",
      "6        Solar  125660.000000\n",
      "7         Wood   79155.990818\n"
     ]
    }
   ],
   "source": [
    "print (data[[\"HeatingFuel\", \"FamilyIncome\"]].groupby(['HeatingFuel'], as_index=False).mean())"
   ]
  },
  {
   "cell_type": "code",
   "execution_count": 21,
   "metadata": {},
   "outputs": [
    {
     "name": "stdout",
     "output_type": "stream",
     "text": [
      "         Language   FamilyIncome\n",
      "0   Asian Pacific  126038.225124\n",
      "1         English  108620.361166\n",
      "2           Other  134087.292254\n",
      "3  Other European  125834.625864\n",
      "4         Spanish   98355.357783\n"
     ]
    }
   ],
   "source": [
    "print (data[[\"Language\", \"FamilyIncome\"]].groupby(['Language'], as_index=False).mean())"
   ]
  },
  {
   "cell_type": "markdown",
   "metadata": {},
   "source": [
    "What I see here are how the averages of the categories have an effect on FamilyIncome.\n",
    "\n",
    "So far, I am willing to drop these variables but will further analyze them:\n",
    "\n",
    "Acres and YearBuilt"
   ]
  },
  {
   "cell_type": "code",
   "execution_count": 22,
   "metadata": {},
   "outputs": [
    {
     "data": {
      "text/html": [
       "<div>\n",
       "<style>\n",
       "    .dataframe thead tr:only-child th {\n",
       "        text-align: right;\n",
       "    }\n",
       "\n",
       "    .dataframe thead th {\n",
       "        text-align: left;\n",
       "    }\n",
       "\n",
       "    .dataframe tbody tr th {\n",
       "        vertical-align: top;\n",
       "    }\n",
       "</style>\n",
       "<table border=\"1\" class=\"dataframe\">\n",
       "  <thead>\n",
       "    <tr style=\"text-align: right;\">\n",
       "      <th></th>\n",
       "      <th>FamilyIncome</th>\n",
       "      <th>NumBedrooms</th>\n",
       "      <th>NumChildren</th>\n",
       "      <th>NumPeople</th>\n",
       "      <th>NumRooms</th>\n",
       "      <th>NumVehicles</th>\n",
       "      <th>NumWorkers</th>\n",
       "      <th>HouseCosts</th>\n",
       "      <th>ElectricBill</th>\n",
       "      <th>Insurance</th>\n",
       "    </tr>\n",
       "  </thead>\n",
       "  <tbody>\n",
       "    <tr>\n",
       "      <th>FamilyIncome</th>\n",
       "      <td>1.000000</td>\n",
       "      <td>0.243360</td>\n",
       "      <td>0.034841</td>\n",
       "      <td>0.079866</td>\n",
       "      <td>0.277138</td>\n",
       "      <td>0.208376</td>\n",
       "      <td>0.230320</td>\n",
       "      <td>0.465851</td>\n",
       "      <td>0.245494</td>\n",
       "      <td>0.409448</td>\n",
       "    </tr>\n",
       "    <tr>\n",
       "      <th>NumBedrooms</th>\n",
       "      <td>0.243360</td>\n",
       "      <td>1.000000</td>\n",
       "      <td>0.173064</td>\n",
       "      <td>0.324647</td>\n",
       "      <td>0.617191</td>\n",
       "      <td>0.189318</td>\n",
       "      <td>0.137775</td>\n",
       "      <td>0.258925</td>\n",
       "      <td>0.240851</td>\n",
       "      <td>0.270862</td>\n",
       "    </tr>\n",
       "    <tr>\n",
       "      <th>NumChildren</th>\n",
       "      <td>0.034841</td>\n",
       "      <td>0.173064</td>\n",
       "      <td>1.000000</td>\n",
       "      <td>0.679914</td>\n",
       "      <td>0.105397</td>\n",
       "      <td>-0.086460</td>\n",
       "      <td>-0.003459</td>\n",
       "      <td>0.146380</td>\n",
       "      <td>0.108400</td>\n",
       "      <td>0.000276</td>\n",
       "    </tr>\n",
       "    <tr>\n",
       "      <th>NumPeople</th>\n",
       "      <td>0.079866</td>\n",
       "      <td>0.324647</td>\n",
       "      <td>0.679914</td>\n",
       "      <td>1.000000</td>\n",
       "      <td>0.164520</td>\n",
       "      <td>0.158397</td>\n",
       "      <td>0.308212</td>\n",
       "      <td>0.180947</td>\n",
       "      <td>0.224866</td>\n",
       "      <td>0.046895</td>\n",
       "    </tr>\n",
       "    <tr>\n",
       "      <th>NumRooms</th>\n",
       "      <td>0.277138</td>\n",
       "      <td>0.617191</td>\n",
       "      <td>0.105397</td>\n",
       "      <td>0.164520</td>\n",
       "      <td>1.000000</td>\n",
       "      <td>0.204736</td>\n",
       "      <td>0.107081</td>\n",
       "      <td>0.214482</td>\n",
       "      <td>0.191467</td>\n",
       "      <td>0.255811</td>\n",
       "    </tr>\n",
       "    <tr>\n",
       "      <th>NumVehicles</th>\n",
       "      <td>0.208376</td>\n",
       "      <td>0.189318</td>\n",
       "      <td>-0.086460</td>\n",
       "      <td>0.158397</td>\n",
       "      <td>0.204736</td>\n",
       "      <td>1.000000</td>\n",
       "      <td>0.387969</td>\n",
       "      <td>0.058177</td>\n",
       "      <td>0.138646</td>\n",
       "      <td>0.121557</td>\n",
       "    </tr>\n",
       "    <tr>\n",
       "      <th>NumWorkers</th>\n",
       "      <td>0.230320</td>\n",
       "      <td>0.137775</td>\n",
       "      <td>-0.003459</td>\n",
       "      <td>0.308212</td>\n",
       "      <td>0.107081</td>\n",
       "      <td>0.387969</td>\n",
       "      <td>1.000000</td>\n",
       "      <td>0.107392</td>\n",
       "      <td>0.092083</td>\n",
       "      <td>0.056086</td>\n",
       "    </tr>\n",
       "    <tr>\n",
       "      <th>HouseCosts</th>\n",
       "      <td>0.465851</td>\n",
       "      <td>0.258925</td>\n",
       "      <td>0.146380</td>\n",
       "      <td>0.180947</td>\n",
       "      <td>0.214482</td>\n",
       "      <td>0.058177</td>\n",
       "      <td>0.107392</td>\n",
       "      <td>1.000000</td>\n",
       "      <td>0.339084</td>\n",
       "      <td>0.492404</td>\n",
       "    </tr>\n",
       "    <tr>\n",
       "      <th>ElectricBill</th>\n",
       "      <td>0.245494</td>\n",
       "      <td>0.240851</td>\n",
       "      <td>0.108400</td>\n",
       "      <td>0.224866</td>\n",
       "      <td>0.191467</td>\n",
       "      <td>0.138646</td>\n",
       "      <td>0.092083</td>\n",
       "      <td>0.339084</td>\n",
       "      <td>1.000000</td>\n",
       "      <td>0.305439</td>\n",
       "    </tr>\n",
       "    <tr>\n",
       "      <th>Insurance</th>\n",
       "      <td>0.409448</td>\n",
       "      <td>0.270862</td>\n",
       "      <td>0.000276</td>\n",
       "      <td>0.046895</td>\n",
       "      <td>0.255811</td>\n",
       "      <td>0.121557</td>\n",
       "      <td>0.056086</td>\n",
       "      <td>0.492404</td>\n",
       "      <td>0.305439</td>\n",
       "      <td>1.000000</td>\n",
       "    </tr>\n",
       "  </tbody>\n",
       "</table>\n",
       "</div>"
      ],
      "text/plain": [
       "              FamilyIncome  NumBedrooms  NumChildren  NumPeople  NumRooms  \\\n",
       "FamilyIncome      1.000000     0.243360     0.034841   0.079866  0.277138   \n",
       "NumBedrooms       0.243360     1.000000     0.173064   0.324647  0.617191   \n",
       "NumChildren       0.034841     0.173064     1.000000   0.679914  0.105397   \n",
       "NumPeople         0.079866     0.324647     0.679914   1.000000  0.164520   \n",
       "NumRooms          0.277138     0.617191     0.105397   0.164520  1.000000   \n",
       "NumVehicles       0.208376     0.189318    -0.086460   0.158397  0.204736   \n",
       "NumWorkers        0.230320     0.137775    -0.003459   0.308212  0.107081   \n",
       "HouseCosts        0.465851     0.258925     0.146380   0.180947  0.214482   \n",
       "ElectricBill      0.245494     0.240851     0.108400   0.224866  0.191467   \n",
       "Insurance         0.409448     0.270862     0.000276   0.046895  0.255811   \n",
       "\n",
       "              NumVehicles  NumWorkers  HouseCosts  ElectricBill  Insurance  \n",
       "FamilyIncome     0.208376    0.230320    0.465851      0.245494   0.409448  \n",
       "NumBedrooms      0.189318    0.137775    0.258925      0.240851   0.270862  \n",
       "NumChildren     -0.086460   -0.003459    0.146380      0.108400   0.000276  \n",
       "NumPeople        0.158397    0.308212    0.180947      0.224866   0.046895  \n",
       "NumRooms         0.204736    0.107081    0.214482      0.191467   0.255811  \n",
       "NumVehicles      1.000000    0.387969    0.058177      0.138646   0.121557  \n",
       "NumWorkers       0.387969    1.000000    0.107392      0.092083   0.056086  \n",
       "HouseCosts       0.058177    0.107392    1.000000      0.339084   0.492404  \n",
       "ElectricBill     0.138646    0.092083    0.339084      1.000000   0.305439  \n",
       "Insurance        0.121557    0.056086    0.492404      0.305439   1.000000  "
      ]
     },
     "execution_count": 22,
     "metadata": {},
     "output_type": "execute_result"
    }
   ],
   "source": [
    "data.corr() #uses pearson's r to calculate correlation."
   ]
  },
  {
   "cell_type": "markdown",
   "metadata": {},
   "source": [
    "The above correlation is only for numeric variables. Here, I can see that None of the variables really correlate with the independent variable. HouseCosts has the most correlation, followed by insurance.\n",
    "\n",
    "For the dependent variables,\n",
    "The most correlated variables are NumChildren and NumPeople, NumRooms and NumBedrooms. So, we will delete one of each to take care of multicollinearity. However, since they are categorical variables, we will use spearman's r first.\n",
    "\n",
    "Looking at the relationship with FamilyIncome, we are going to delete NumChildren and NumBedrooms because they are least correlated.\n",
    "\n",
    "We are still going to do more data wrangling before we delete anything."
   ]
  },
  {
   "cell_type": "code",
   "execution_count": 26,
   "metadata": {},
   "outputs": [
    {
     "name": "stdout",
     "output_type": "stream",
     "text": [
      "0.678027299248\n"
     ]
    }
   ],
   "source": [
    "from scipy.stats import spearmanr\n",
    "spearmanr_coefficient, p_value = spearmanr(data['NumChildren'],data['NumPeople'])\n",
    "print(spearmanr_coefficient)"
   ]
  },
  {
   "cell_type": "code",
   "execution_count": 29,
   "metadata": {},
   "outputs": [
    {
     "name": "stdout",
     "output_type": "stream",
     "text": [
      "0.664319110005\n"
     ]
    }
   ],
   "source": [
    "spearmanr_coefficient, p_value = spearmanr(data['NumRooms'],data['NumBedrooms'])\n",
    "print(spearmanr_coefficient)"
   ]
  },
  {
   "cell_type": "markdown",
   "metadata": {},
   "source": [
    "Spearmanr also gave us a high correlation between the independent variables."
   ]
  },
  {
   "cell_type": "markdown",
   "metadata": {},
   "source": [
    "Now, we check the independent vs dependent variables for categorical variables."
   ]
  },
  {
   "cell_type": "code",
   "execution_count": 30,
   "metadata": {},
   "outputs": [
    {
     "name": "stdout",
     "output_type": "stream",
     "text": [
      "0.0488871572277\n"
     ]
    },
    {
     "name": "stderr",
     "output_type": "stream",
     "text": [
      "C:\\Program Files (x86)\\Microsoft Visual Studio\\Shared\\Anaconda3_64\\lib\\site-packages\\scipy\\stats\\stats.py:253: RuntimeWarning: The input array could not be properly checked for nan values. nan values will be ignored.\n",
      "  \"values. nan values will be ignored.\", RuntimeWarning)\n"
     ]
    }
   ],
   "source": [
    "spearmanr_coefficient, p_value = spearmanr(data['Acres'],data['FamilyIncome'])\n",
    "print(spearmanr_coefficient)"
   ]
  },
  {
   "cell_type": "code",
   "execution_count": 31,
   "metadata": {},
   "outputs": [
    {
     "name": "stdout",
     "output_type": "stream",
     "text": [
      "0.328725070153\n"
     ]
    },
    {
     "name": "stderr",
     "output_type": "stream",
     "text": [
      "C:\\Program Files (x86)\\Microsoft Visual Studio\\Shared\\Anaconda3_64\\lib\\site-packages\\scipy\\stats\\stats.py:253: RuntimeWarning: The input array could not be properly checked for nan values. nan values will be ignored.\n",
      "  \"values. nan values will be ignored.\", RuntimeWarning)\n"
     ]
    }
   ],
   "source": [
    "spearmanr_coefficient, p_value = spearmanr(data['FamilyType'],data['FamilyIncome'])\n",
    "print(spearmanr_coefficient)"
   ]
  },
  {
   "cell_type": "code",
   "execution_count": 32,
   "metadata": {},
   "outputs": [
    {
     "name": "stdout",
     "output_type": "stream",
     "text": [
      "0.262060072174\n"
     ]
    }
   ],
   "source": [
    "spearmanr_coefficient, p_value = spearmanr(data['NumBedrooms'],data['FamilyIncome'])\n",
    "print(spearmanr_coefficient)"
   ]
  },
  {
   "cell_type": "code",
   "execution_count": 33,
   "metadata": {},
   "outputs": [
    {
     "name": "stdout",
     "output_type": "stream",
     "text": [
      "0.0131632659587\n"
     ]
    }
   ],
   "source": [
    "spearmanr_coefficient, p_value = spearmanr(data['NumChildren'],data['FamilyIncome'])\n",
    "print(spearmanr_coefficient)"
   ]
  },
  {
   "cell_type": "code",
   "execution_count": 34,
   "metadata": {},
   "outputs": [
    {
     "name": "stdout",
     "output_type": "stream",
     "text": [
      "0.126566094469\n"
     ]
    }
   ],
   "source": [
    "spearmanr_coefficient, p_value = spearmanr(data['NumPeople'],data['FamilyIncome'])\n",
    "print(spearmanr_coefficient)"
   ]
  },
  {
   "cell_type": "code",
   "execution_count": 35,
   "metadata": {},
   "outputs": [
    {
     "name": "stdout",
     "output_type": "stream",
     "text": [
      "0.304114737035\n"
     ]
    }
   ],
   "source": [
    "spearmanr_coefficient, p_value = spearmanr(data['NumRooms'],data['FamilyIncome'])\n",
    "print(spearmanr_coefficient)"
   ]
  },
  {
   "cell_type": "code",
   "execution_count": 36,
   "metadata": {},
   "outputs": [
    {
     "name": "stdout",
     "output_type": "stream",
     "text": [
      "0.133558239642\n"
     ]
    },
    {
     "name": "stderr",
     "output_type": "stream",
     "text": [
      "C:\\Program Files (x86)\\Microsoft Visual Studio\\Shared\\Anaconda3_64\\lib\\site-packages\\scipy\\stats\\stats.py:253: RuntimeWarning: The input array could not be properly checked for nan values. nan values will be ignored.\n",
      "  \"values. nan values will be ignored.\", RuntimeWarning)\n"
     ]
    }
   ],
   "source": [
    "spearmanr_coefficient, p_value = spearmanr(data['NumUnits'],data['FamilyIncome'])\n",
    "print(spearmanr_coefficient)"
   ]
  },
  {
   "cell_type": "code",
   "execution_count": 37,
   "metadata": {},
   "outputs": [
    {
     "name": "stdout",
     "output_type": "stream",
     "text": [
      "0.324239036965\n"
     ]
    }
   ],
   "source": [
    "spearmanr_coefficient, p_value = spearmanr(data['NumVehicles'],data['FamilyIncome'])\n",
    "print(spearmanr_coefficient)"
   ]
  },
  {
   "cell_type": "code",
   "execution_count": 38,
   "metadata": {},
   "outputs": [
    {
     "name": "stdout",
     "output_type": "stream",
     "text": [
      "0.403427713964\n"
     ]
    }
   ],
   "source": [
    "spearmanr_coefficient, p_value = spearmanr(data['NumWorkers'],data['FamilyIncome'])\n",
    "print(spearmanr_coefficient)"
   ]
  },
  {
   "cell_type": "code",
   "execution_count": 39,
   "metadata": {},
   "outputs": [
    {
     "name": "stdout",
     "output_type": "stream",
     "text": [
      "-0.301953003731\n"
     ]
    },
    {
     "name": "stderr",
     "output_type": "stream",
     "text": [
      "C:\\Program Files (x86)\\Microsoft Visual Studio\\Shared\\Anaconda3_64\\lib\\site-packages\\scipy\\stats\\stats.py:253: RuntimeWarning: The input array could not be properly checked for nan values. nan values will be ignored.\n",
      "  \"values. nan values will be ignored.\", RuntimeWarning)\n"
     ]
    }
   ],
   "source": [
    "spearmanr_coefficient, p_value = spearmanr(data['OwnRent'],data['FamilyIncome'])\n",
    "print(spearmanr_coefficient)"
   ]
  },
  {
   "cell_type": "code",
   "execution_count": 40,
   "metadata": {},
   "outputs": [
    {
     "name": "stdout",
     "output_type": "stream",
     "text": [
      "-0.0558708465521\n"
     ]
    },
    {
     "name": "stderr",
     "output_type": "stream",
     "text": [
      "C:\\Program Files (x86)\\Microsoft Visual Studio\\Shared\\Anaconda3_64\\lib\\site-packages\\scipy\\stats\\stats.py:253: RuntimeWarning: The input array could not be properly checked for nan values. nan values will be ignored.\n",
      "  \"values. nan values will be ignored.\", RuntimeWarning)\n"
     ]
    }
   ],
   "source": [
    "spearmanr_coefficient, p_value = spearmanr(data['YearBuilt'],data['FamilyIncome'])\n",
    "print(spearmanr_coefficient)"
   ]
  },
  {
   "cell_type": "code",
   "execution_count": 41,
   "metadata": {},
   "outputs": [
    {
     "name": "stdout",
     "output_type": "stream",
     "text": [
      "0.437340893131\n"
     ]
    }
   ],
   "source": [
    "spearmanr_coefficient, p_value = spearmanr(data['HouseCosts'],data['FamilyIncome']) #continuous variable. So, pearson's R value is preffered.\n",
    "print(spearmanr_coefficient)"
   ]
  },
  {
   "cell_type": "code",
   "execution_count": 42,
   "metadata": {},
   "outputs": [
    {
     "name": "stdout",
     "output_type": "stream",
     "text": [
      "0.233889009602\n"
     ]
    }
   ],
   "source": [
    "spearmanr_coefficient, p_value = spearmanr(data['ElectricBill'],data['FamilyIncome']) #continuous variable. So, pearson's R value is preffered.\n",
    "print(spearmanr_coefficient)"
   ]
  },
  {
   "cell_type": "code",
   "execution_count": 43,
   "metadata": {},
   "outputs": [
    {
     "name": "stdout",
     "output_type": "stream",
     "text": [
      "-0.281969502572\n"
     ]
    },
    {
     "name": "stderr",
     "output_type": "stream",
     "text": [
      "C:\\Program Files (x86)\\Microsoft Visual Studio\\Shared\\Anaconda3_64\\lib\\site-packages\\scipy\\stats\\stats.py:253: RuntimeWarning: The input array could not be properly checked for nan values. nan values will be ignored.\n",
      "  \"values. nan values will be ignored.\", RuntimeWarning)\n"
     ]
    }
   ],
   "source": [
    "spearmanr_coefficient, p_value = spearmanr(data['FoodStamp'],data['FamilyIncome'])\n",
    "print(spearmanr_coefficient)"
   ]
  },
  {
   "cell_type": "code",
   "execution_count": 44,
   "metadata": {},
   "outputs": [
    {
     "name": "stdout",
     "output_type": "stream",
     "text": [
      "0.00566231554938\n"
     ]
    },
    {
     "name": "stderr",
     "output_type": "stream",
     "text": [
      "C:\\Program Files (x86)\\Microsoft Visual Studio\\Shared\\Anaconda3_64\\lib\\site-packages\\scipy\\stats\\stats.py:253: RuntimeWarning: The input array could not be properly checked for nan values. nan values will be ignored.\n",
      "  \"values. nan values will be ignored.\", RuntimeWarning)\n"
     ]
    }
   ],
   "source": [
    "spearmanr_coefficient, p_value = spearmanr(data['HeatingFuel'],data['FamilyIncome'])\n",
    "print(spearmanr_coefficient)"
   ]
  },
  {
   "cell_type": "code",
   "execution_count": 45,
   "metadata": {},
   "outputs": [
    {
     "name": "stdout",
     "output_type": "stream",
     "text": [
      "0.409948285597\n"
     ]
    }
   ],
   "source": [
    "spearmanr_coefficient, p_value = spearmanr(data['Insurance'],data['FamilyIncome']) #continuous variable. So, pearson's R value is preffered.\n",
    "print(spearmanr_coefficient)"
   ]
  },
  {
   "cell_type": "code",
   "execution_count": 46,
   "metadata": {},
   "outputs": [
    {
     "name": "stdout",
     "output_type": "stream",
     "text": [
      "-0.0140644729046\n"
     ]
    },
    {
     "name": "stderr",
     "output_type": "stream",
     "text": [
      "C:\\Program Files (x86)\\Microsoft Visual Studio\\Shared\\Anaconda3_64\\lib\\site-packages\\scipy\\stats\\stats.py:253: RuntimeWarning: The input array could not be properly checked for nan values. nan values will be ignored.\n",
      "  \"values. nan values will be ignored.\", RuntimeWarning)\n"
     ]
    }
   ],
   "source": [
    "spearmanr_coefficient, p_value = spearmanr(data['Language'],data['FamilyIncome'])\n",
    "print(spearmanr_coefficient)"
   ]
  },
  {
   "cell_type": "markdown",
   "metadata": {},
   "source": [
    "Thus, before when we used mean to check the relationship between independent variables and dependent variables, we found out that Acres and YearBuilt did not correlate with FamilyIncome.\n",
    "\n",
    "With spearmanr, we can justify that and thus remove it.\n",
    "\n",
    "Here, we also found out that Language, HeatingFuel and NumChildren had less than 0.1 for correlation, so we delete those too.\n",
    "\n",
    "Overall, none of the variables really had any significant correlation with the FamilyIncome, so a different method of Regression should be used. Since, we are only focusing on Multiple Regression for this exercise, we will carry on after deleting the following variables.\n",
    "\n",
    "Acres, YearBuilt, Language, HeatingFuel, NumChildren, NumBedrooms.\n",
    "\n",
    "The number to beat is 0.30"
   ]
  },
  {
   "cell_type": "code",
   "execution_count": 47,
   "metadata": {
    "collapsed": true
   },
   "outputs": [],
   "source": [
    "data = data.drop(['Acres', 'YearBuilt', 'Language', 'HeatingFuel', 'NumChildren', 'NumBedrooms'],axis = 1)"
   ]
  },
  {
   "cell_type": "code",
   "execution_count": 48,
   "metadata": {},
   "outputs": [
    {
     "data": {
      "text/html": [
       "<div>\n",
       "<style>\n",
       "    .dataframe thead tr:only-child th {\n",
       "        text-align: right;\n",
       "    }\n",
       "\n",
       "    .dataframe thead th {\n",
       "        text-align: left;\n",
       "    }\n",
       "\n",
       "    .dataframe tbody tr th {\n",
       "        vertical-align: top;\n",
       "    }\n",
       "</style>\n",
       "<table border=\"1\" class=\"dataframe\">\n",
       "  <thead>\n",
       "    <tr style=\"text-align: right;\">\n",
       "      <th></th>\n",
       "      <th>FamilyIncome</th>\n",
       "      <th>FamilyType</th>\n",
       "      <th>NumPeople</th>\n",
       "      <th>NumRooms</th>\n",
       "      <th>NumUnits</th>\n",
       "      <th>NumVehicles</th>\n",
       "      <th>NumWorkers</th>\n",
       "      <th>OwnRent</th>\n",
       "      <th>HouseCosts</th>\n",
       "      <th>ElectricBill</th>\n",
       "      <th>FoodStamp</th>\n",
       "      <th>Insurance</th>\n",
       "    </tr>\n",
       "  </thead>\n",
       "  <tbody>\n",
       "    <tr>\n",
       "      <th>0</th>\n",
       "      <td>150</td>\n",
       "      <td>Married</td>\n",
       "      <td>3</td>\n",
       "      <td>9</td>\n",
       "      <td>Single detached</td>\n",
       "      <td>1</td>\n",
       "      <td>0</td>\n",
       "      <td>Mortgage</td>\n",
       "      <td>1800</td>\n",
       "      <td>90</td>\n",
       "      <td>No</td>\n",
       "      <td>2500</td>\n",
       "    </tr>\n",
       "    <tr>\n",
       "      <th>1</th>\n",
       "      <td>180</td>\n",
       "      <td>Female Head</td>\n",
       "      <td>4</td>\n",
       "      <td>6</td>\n",
       "      <td>Single detached</td>\n",
       "      <td>2</td>\n",
       "      <td>0</td>\n",
       "      <td>Rented</td>\n",
       "      <td>850</td>\n",
       "      <td>90</td>\n",
       "      <td>No</td>\n",
       "      <td>0</td>\n",
       "    </tr>\n",
       "    <tr>\n",
       "      <th>2</th>\n",
       "      <td>280</td>\n",
       "      <td>Female Head</td>\n",
       "      <td>2</td>\n",
       "      <td>8</td>\n",
       "      <td>Single detached</td>\n",
       "      <td>3</td>\n",
       "      <td>1</td>\n",
       "      <td>Mortgage</td>\n",
       "      <td>2600</td>\n",
       "      <td>260</td>\n",
       "      <td>No</td>\n",
       "      <td>6600</td>\n",
       "    </tr>\n",
       "    <tr>\n",
       "      <th>3</th>\n",
       "      <td>330</td>\n",
       "      <td>Female Head</td>\n",
       "      <td>2</td>\n",
       "      <td>4</td>\n",
       "      <td>Single detached</td>\n",
       "      <td>1</td>\n",
       "      <td>0</td>\n",
       "      <td>Rented</td>\n",
       "      <td>1800</td>\n",
       "      <td>140</td>\n",
       "      <td>No</td>\n",
       "      <td>0</td>\n",
       "    </tr>\n",
       "    <tr>\n",
       "      <th>4</th>\n",
       "      <td>330</td>\n",
       "      <td>Male Head</td>\n",
       "      <td>2</td>\n",
       "      <td>5</td>\n",
       "      <td>Single attached</td>\n",
       "      <td>1</td>\n",
       "      <td>0</td>\n",
       "      <td>Mortgage</td>\n",
       "      <td>860</td>\n",
       "      <td>150</td>\n",
       "      <td>No</td>\n",
       "      <td>660</td>\n",
       "    </tr>\n",
       "  </tbody>\n",
       "</table>\n",
       "</div>"
      ],
      "text/plain": [
       "   FamilyIncome   FamilyType  NumPeople  NumRooms         NumUnits  \\\n",
       "0           150      Married          3         9  Single detached   \n",
       "1           180  Female Head          4         6  Single detached   \n",
       "2           280  Female Head          2         8  Single detached   \n",
       "3           330  Female Head          2         4  Single detached   \n",
       "4           330    Male Head          2         5  Single attached   \n",
       "\n",
       "   NumVehicles  NumWorkers   OwnRent  HouseCosts  ElectricBill FoodStamp  \\\n",
       "0            1           0  Mortgage        1800            90        No   \n",
       "1            2           0    Rented         850            90        No   \n",
       "2            3           1  Mortgage        2600           260        No   \n",
       "3            1           0    Rented        1800           140        No   \n",
       "4            1           0  Mortgage         860           150        No   \n",
       "\n",
       "   Insurance  \n",
       "0       2500  \n",
       "1          0  \n",
       "2       6600  \n",
       "3          0  \n",
       "4        660  "
      ]
     },
     "execution_count": 48,
     "metadata": {},
     "output_type": "execute_result"
    }
   ],
   "source": [
    "data.head()"
   ]
  },
  {
   "cell_type": "code",
   "execution_count": 50,
   "metadata": {},
   "outputs": [],
   "source": [
    "y = data.iloc[:, 0:1]\n",
    "x = data.iloc[:, 1:]"
   ]
  },
  {
   "cell_type": "code",
   "execution_count": 53,
   "metadata": {},
   "outputs": [],
   "source": [
    "encoded_x = pd.get_dummies(x, drop_first = True) #to get rid of dummy variable trap"
   ]
  },
  {
   "cell_type": "code",
   "execution_count": 56,
   "metadata": {},
   "outputs": [],
   "source": [
    "from sklearn.model_selection import train_test_split\n",
    "X_train, X_test, Y_train, Y_test = train_test_split(encoded_x, y, test_size = 0.2, random_state = 0)"
   ]
  },
  {
   "cell_type": "code",
   "execution_count": 57,
   "metadata": {},
   "outputs": [
    {
     "name": "stderr",
     "output_type": "stream",
     "text": [
      "C:\\Program Files (x86)\\Microsoft Visual Studio\\Shared\\Anaconda3_64\\lib\\site-packages\\statsmodels\\compat\\pandas.py:56: FutureWarning: The pandas.core.datetools module is deprecated and will be removed in a future version. Please use the pandas.tseries module instead.\n",
      "  from pandas.core import datetools\n"
     ]
    }
   ],
   "source": [
    "import statsmodels.api as sm"
   ]
  },
  {
   "cell_type": "code",
   "execution_count": 58,
   "metadata": {},
   "outputs": [
    {
     "data": {
      "text/html": [
       "<table class=\"simpletable\">\n",
       "<caption>OLS Regression Results</caption>\n",
       "<tr>\n",
       "  <th>Dep. Variable:</th>      <td>FamilyIncome</td>   <th>  R-squared:         </th>  <td>   0.339</td>  \n",
       "</tr>\n",
       "<tr>\n",
       "  <th>Model:</th>                   <td>OLS</td>       <th>  Adj. R-squared:    </th>  <td>   0.339</td>  \n",
       "</tr>\n",
       "<tr>\n",
       "  <th>Method:</th>             <td>Least Squares</td>  <th>  F-statistic:       </th>  <td>   832.5</td>  \n",
       "</tr>\n",
       "<tr>\n",
       "  <th>Date:</th>             <td>Sat, 14 Apr 2018</td> <th>  Prob (F-statistic):</th>   <td>  0.00</td>   \n",
       "</tr>\n",
       "<tr>\n",
       "  <th>Time:</th>                 <td>12:42:53</td>     <th>  Log-Likelihood:    </th> <td>-2.8953e+05</td>\n",
       "</tr>\n",
       "<tr>\n",
       "  <th>No. Observations:</th>      <td> 22745</td>      <th>  AIC:               </th>  <td>5.791e+05</td> \n",
       "</tr>\n",
       "<tr>\n",
       "  <th>Df Residuals:</th>          <td> 22730</td>      <th>  BIC:               </th>  <td>5.792e+05</td> \n",
       "</tr>\n",
       "<tr>\n",
       "  <th>Df Model:</th>              <td>    14</td>      <th>                     </th>      <td> </td>     \n",
       "</tr>\n",
       "<tr>\n",
       "  <th>Covariance Type:</th>      <td>nonrobust</td>    <th>                     </th>      <td> </td>     \n",
       "</tr>\n",
       "</table>\n",
       "<table class=\"simpletable\">\n",
       "<tr>\n",
       "              <td></td>                <th>coef</th>     <th>std err</th>      <th>t</th>      <th>P>|t|</th>  <th>[0.025</th>    <th>0.975]</th>  \n",
       "</tr>\n",
       "<tr>\n",
       "  <th>const</th>                    <td>-5.283e+04</td> <td> 3906.574</td> <td>  -13.524</td> <td> 0.000</td> <td>-6.05e+04</td> <td>-4.52e+04</td>\n",
       "</tr>\n",
       "<tr>\n",
       "  <th>NumPeople</th>                <td>-4945.9979</td> <td>  435.753</td> <td>  -11.350</td> <td> 0.000</td> <td>-5800.103</td> <td>-4091.892</td>\n",
       "</tr>\n",
       "<tr>\n",
       "  <th>NumRooms</th>                 <td> 5496.4229</td> <td>  250.747</td> <td>   21.920</td> <td> 0.000</td> <td> 5004.941</td> <td> 5987.905</td>\n",
       "</tr>\n",
       "<tr>\n",
       "  <th>NumVehicles</th>              <td> 6414.4310</td> <td>  652.424</td> <td>    9.832</td> <td> 0.000</td> <td> 5135.636</td> <td> 7693.226</td>\n",
       "</tr>\n",
       "<tr>\n",
       "  <th>NumWorkers</th>               <td> 1.757e+04</td> <td>  759.716</td> <td>   23.125</td> <td> 0.000</td> <td> 1.61e+04</td> <td> 1.91e+04</td>\n",
       "</tr>\n",
       "<tr>\n",
       "  <th>HouseCosts</th>               <td>   27.5695</td> <td>    0.573</td> <td>   48.104</td> <td> 0.000</td> <td>   26.446</td> <td>   28.693</td>\n",
       "</tr>\n",
       "<tr>\n",
       "  <th>ElectricBill</th>             <td>   46.0162</td> <td>    5.617</td> <td>    8.193</td> <td> 0.000</td> <td>   35.007</td> <td>   57.025</td>\n",
       "</tr>\n",
       "<tr>\n",
       "  <th>Insurance</th>                <td>   18.3831</td> <td>    0.675</td> <td>   27.222</td> <td> 0.000</td> <td>   17.059</td> <td>   19.707</td>\n",
       "</tr>\n",
       "<tr>\n",
       "  <th>FamilyType_Male Head</th>     <td> 8009.7917</td> <td> 2812.207</td> <td>    2.848</td> <td> 0.004</td> <td> 2497.673</td> <td> 1.35e+04</td>\n",
       "</tr>\n",
       "<tr>\n",
       "  <th>FamilyType_Married</th>       <td> 3.052e+04</td> <td> 1657.173</td> <td>   18.416</td> <td> 0.000</td> <td> 2.73e+04</td> <td> 3.38e+04</td>\n",
       "</tr>\n",
       "<tr>\n",
       "  <th>NumUnits_Single attached</th> <td> 5020.7158</td> <td> 3565.433</td> <td>    1.408</td> <td> 0.159</td> <td>-1967.776</td> <td>  1.2e+04</td>\n",
       "</tr>\n",
       "<tr>\n",
       "  <th>NumUnits_Single detached</th> <td> 4802.5017</td> <td> 3175.383</td> <td>    1.512</td> <td> 0.130</td> <td>-1421.466</td> <td>  1.1e+04</td>\n",
       "</tr>\n",
       "<tr>\n",
       "  <th>OwnRent_Outright</th>         <td> 5.881e+04</td> <td> 6762.220</td> <td>    8.697</td> <td> 0.000</td> <td> 4.56e+04</td> <td> 7.21e+04</td>\n",
       "</tr>\n",
       "<tr>\n",
       "  <th>OwnRent_Rented</th>           <td> 6444.8143</td> <td> 2002.114</td> <td>    3.219</td> <td> 0.001</td> <td> 2520.534</td> <td> 1.04e+04</td>\n",
       "</tr>\n",
       "<tr>\n",
       "  <th>FoodStamp_Yes</th>            <td>-1.378e+04</td> <td> 2253.118</td> <td>   -6.116</td> <td> 0.000</td> <td>-1.82e+04</td> <td>-9363.823</td>\n",
       "</tr>\n",
       "</table>\n",
       "<table class=\"simpletable\">\n",
       "<tr>\n",
       "  <th>Omnibus:</th>       <td>16174.698</td> <th>  Durbin-Watson:     </th>  <td>   0.559</td> \n",
       "</tr>\n",
       "<tr>\n",
       "  <th>Prob(Omnibus):</th>  <td> 0.000</td>   <th>  Jarque-Bera (JB):  </th> <td>427169.290</td>\n",
       "</tr>\n",
       "<tr>\n",
       "  <th>Skew:</th>           <td> 3.110</td>   <th>  Prob(JB):          </th>  <td>    0.00</td> \n",
       "</tr>\n",
       "<tr>\n",
       "  <th>Kurtosis:</th>       <td>23.299</td>   <th>  Cond. No.          </th>  <td>2.77e+04</td> \n",
       "</tr>\n",
       "</table>"
      ],
      "text/plain": [
       "<class 'statsmodels.iolib.summary.Summary'>\n",
       "\"\"\"\n",
       "                            OLS Regression Results                            \n",
       "==============================================================================\n",
       "Dep. Variable:           FamilyIncome   R-squared:                       0.339\n",
       "Model:                            OLS   Adj. R-squared:                  0.339\n",
       "Method:                 Least Squares   F-statistic:                     832.5\n",
       "Date:                Sat, 14 Apr 2018   Prob (F-statistic):               0.00\n",
       "Time:                        12:42:53   Log-Likelihood:            -2.8953e+05\n",
       "No. Observations:               22745   AIC:                         5.791e+05\n",
       "Df Residuals:                   22730   BIC:                         5.792e+05\n",
       "Df Model:                          14                                         \n",
       "Covariance Type:            nonrobust                                         \n",
       "============================================================================================\n",
       "                               coef    std err          t      P>|t|      [0.025      0.975]\n",
       "--------------------------------------------------------------------------------------------\n",
       "const                    -5.283e+04   3906.574    -13.524      0.000   -6.05e+04   -4.52e+04\n",
       "NumPeople                -4945.9979    435.753    -11.350      0.000   -5800.103   -4091.892\n",
       "NumRooms                  5496.4229    250.747     21.920      0.000    5004.941    5987.905\n",
       "NumVehicles               6414.4310    652.424      9.832      0.000    5135.636    7693.226\n",
       "NumWorkers                1.757e+04    759.716     23.125      0.000    1.61e+04    1.91e+04\n",
       "HouseCosts                  27.5695      0.573     48.104      0.000      26.446      28.693\n",
       "ElectricBill                46.0162      5.617      8.193      0.000      35.007      57.025\n",
       "Insurance                   18.3831      0.675     27.222      0.000      17.059      19.707\n",
       "FamilyType_Male Head      8009.7917   2812.207      2.848      0.004    2497.673    1.35e+04\n",
       "FamilyType_Married        3.052e+04   1657.173     18.416      0.000    2.73e+04    3.38e+04\n",
       "NumUnits_Single attached  5020.7158   3565.433      1.408      0.159   -1967.776     1.2e+04\n",
       "NumUnits_Single detached  4802.5017   3175.383      1.512      0.130   -1421.466     1.1e+04\n",
       "OwnRent_Outright          5.881e+04   6762.220      8.697      0.000    4.56e+04    7.21e+04\n",
       "OwnRent_Rented            6444.8143   2002.114      3.219      0.001    2520.534    1.04e+04\n",
       "FoodStamp_Yes            -1.378e+04   2253.118     -6.116      0.000   -1.82e+04   -9363.823\n",
       "==============================================================================\n",
       "Omnibus:                    16174.698   Durbin-Watson:                   0.559\n",
       "Prob(Omnibus):                  0.000   Jarque-Bera (JB):           427169.290\n",
       "Skew:                           3.110   Prob(JB):                         0.00\n",
       "Kurtosis:                      23.299   Cond. No.                     2.77e+04\n",
       "==============================================================================\n",
       "\n",
       "Warnings:\n",
       "[1] Standard Errors assume that the covariance matrix of the errors is correctly specified.\n",
       "[2] The condition number is large, 2.77e+04. This might indicate that there are\n",
       "strong multicollinearity or other numerical problems.\n",
       "\"\"\""
      ]
     },
     "execution_count": 58,
     "metadata": {},
     "output_type": "execute_result"
    }
   ],
   "source": [
    "X = encoded_x\n",
    "Y = y\n",
    "## fit a OLS model with intercept on TV and Radio\n",
    "X = sm.add_constant(X)\n",
    "est = sm.OLS(Y, X).fit()\n",
    "\n",
    "est.summary()"
   ]
  },
  {
   "cell_type": "markdown",
   "metadata": {},
   "source": [
    "We use backward elimination with a p-value <= 0.05 criteria."
   ]
  },
  {
   "cell_type": "code",
   "execution_count": 59,
   "metadata": {},
   "outputs": [
    {
     "data": {
      "text/html": [
       "<table class=\"simpletable\">\n",
       "<caption>OLS Regression Results</caption>\n",
       "<tr>\n",
       "  <th>Dep. Variable:</th>      <td>FamilyIncome</td>   <th>  R-squared:         </th>  <td>   0.339</td>  \n",
       "</tr>\n",
       "<tr>\n",
       "  <th>Model:</th>                   <td>OLS</td>       <th>  Adj. R-squared:    </th>  <td>   0.339</td>  \n",
       "</tr>\n",
       "<tr>\n",
       "  <th>Method:</th>             <td>Least Squares</td>  <th>  F-statistic:       </th>  <td>   896.4</td>  \n",
       "</tr>\n",
       "<tr>\n",
       "  <th>Date:</th>             <td>Sat, 14 Apr 2018</td> <th>  Prob (F-statistic):</th>   <td>  0.00</td>   \n",
       "</tr>\n",
       "<tr>\n",
       "  <th>Time:</th>                 <td>12:46:16</td>     <th>  Log-Likelihood:    </th> <td>-2.8953e+05</td>\n",
       "</tr>\n",
       "<tr>\n",
       "  <th>No. Observations:</th>      <td> 22745</td>      <th>  AIC:               </th>  <td>5.791e+05</td> \n",
       "</tr>\n",
       "<tr>\n",
       "  <th>Df Residuals:</th>          <td> 22731</td>      <th>  BIC:               </th>  <td>5.792e+05</td> \n",
       "</tr>\n",
       "<tr>\n",
       "  <th>Df Model:</th>              <td>    13</td>      <th>                     </th>      <td> </td>     \n",
       "</tr>\n",
       "<tr>\n",
       "  <th>Covariance Type:</th>      <td>nonrobust</td>    <th>                     </th>      <td> </td>     \n",
       "</tr>\n",
       "</table>\n",
       "<table class=\"simpletable\">\n",
       "<tr>\n",
       "              <td></td>                <th>coef</th>     <th>std err</th>      <th>t</th>      <th>P>|t|</th>  <th>[0.025</th>    <th>0.975]</th>  \n",
       "</tr>\n",
       "<tr>\n",
       "  <th>const</th>                    <td>-4.908e+04</td> <td> 2857.476</td> <td>  -17.176</td> <td> 0.000</td> <td>-5.47e+04</td> <td>-4.35e+04</td>\n",
       "</tr>\n",
       "<tr>\n",
       "  <th>NumPeople</th>                <td>-4935.4520</td> <td>  435.698</td> <td>  -11.328</td> <td> 0.000</td> <td>-5789.450</td> <td>-4081.454</td>\n",
       "</tr>\n",
       "<tr>\n",
       "  <th>NumRooms</th>                 <td> 5498.8402</td> <td>  250.747</td> <td>   21.930</td> <td> 0.000</td> <td> 5007.359</td> <td> 5990.321</td>\n",
       "</tr>\n",
       "<tr>\n",
       "  <th>NumVehicles</th>              <td> 6316.9860</td> <td>  648.758</td> <td>    9.737</td> <td> 0.000</td> <td> 5045.377</td> <td> 7588.595</td>\n",
       "</tr>\n",
       "<tr>\n",
       "  <th>NumWorkers</th>               <td> 1.763e+04</td> <td>  758.518</td> <td>   23.241</td> <td> 0.000</td> <td> 1.61e+04</td> <td> 1.91e+04</td>\n",
       "</tr>\n",
       "<tr>\n",
       "  <th>HouseCosts</th>               <td>   27.6643</td> <td>    0.569</td> <td>   48.605</td> <td> 0.000</td> <td>   26.549</td> <td>   28.780</td>\n",
       "</tr>\n",
       "<tr>\n",
       "  <th>ElectricBill</th>             <td>   46.0556</td> <td>    5.617</td> <td>    8.200</td> <td> 0.000</td> <td>   35.046</td> <td>   57.065</td>\n",
       "</tr>\n",
       "<tr>\n",
       "  <th>Insurance</th>                <td>   18.3947</td> <td>    0.675</td> <td>   27.241</td> <td> 0.000</td> <td>   17.071</td> <td>   19.718</td>\n",
       "</tr>\n",
       "<tr>\n",
       "  <th>FamilyType_Male Head</th>     <td> 7914.0288</td> <td> 2811.446</td> <td>    2.815</td> <td> 0.005</td> <td> 2403.403</td> <td> 1.34e+04</td>\n",
       "</tr>\n",
       "<tr>\n",
       "  <th>FamilyType_Married</th>       <td> 3.046e+04</td> <td> 1656.600</td> <td>   18.384</td> <td> 0.000</td> <td> 2.72e+04</td> <td> 3.37e+04</td>\n",
       "</tr>\n",
       "<tr>\n",
       "  <th>NumUnits_Single detached</th> <td> 1011.8917</td> <td> 1684.329</td> <td>    0.601</td> <td> 0.548</td> <td>-2289.508</td> <td> 4313.291</td>\n",
       "</tr>\n",
       "<tr>\n",
       "  <th>OwnRent_Outright</th>         <td> 5.997e+04</td> <td> 6711.968</td> <td>    8.935</td> <td> 0.000</td> <td> 4.68e+04</td> <td> 7.31e+04</td>\n",
       "</tr>\n",
       "<tr>\n",
       "  <th>OwnRent_Rented</th>           <td> 6423.3120</td> <td> 2002.099</td> <td>    3.208</td> <td> 0.001</td> <td> 2499.061</td> <td> 1.03e+04</td>\n",
       "</tr>\n",
       "<tr>\n",
       "  <th>FoodStamp_Yes</th>            <td>-1.395e+04</td> <td> 2250.006</td> <td>   -6.199</td> <td> 0.000</td> <td>-1.84e+04</td> <td>-9537.896</td>\n",
       "</tr>\n",
       "</table>\n",
       "<table class=\"simpletable\">\n",
       "<tr>\n",
       "  <th>Omnibus:</th>       <td>16167.427</td> <th>  Durbin-Watson:     </th>  <td>   0.560</td> \n",
       "</tr>\n",
       "<tr>\n",
       "  <th>Prob(Omnibus):</th>  <td> 0.000</td>   <th>  Jarque-Bera (JB):  </th> <td>426638.972</td>\n",
       "</tr>\n",
       "<tr>\n",
       "  <th>Skew:</th>           <td> 3.109</td>   <th>  Prob(JB):          </th>  <td>    0.00</td> \n",
       "</tr>\n",
       "<tr>\n",
       "  <th>Kurtosis:</th>       <td>23.286</td>   <th>  Cond. No.          </th>  <td>2.75e+04</td> \n",
       "</tr>\n",
       "</table>"
      ],
      "text/plain": [
       "<class 'statsmodels.iolib.summary.Summary'>\n",
       "\"\"\"\n",
       "                            OLS Regression Results                            \n",
       "==============================================================================\n",
       "Dep. Variable:           FamilyIncome   R-squared:                       0.339\n",
       "Model:                            OLS   Adj. R-squared:                  0.339\n",
       "Method:                 Least Squares   F-statistic:                     896.4\n",
       "Date:                Sat, 14 Apr 2018   Prob (F-statistic):               0.00\n",
       "Time:                        12:46:16   Log-Likelihood:            -2.8953e+05\n",
       "No. Observations:               22745   AIC:                         5.791e+05\n",
       "Df Residuals:                   22731   BIC:                         5.792e+05\n",
       "Df Model:                          13                                         \n",
       "Covariance Type:            nonrobust                                         \n",
       "============================================================================================\n",
       "                               coef    std err          t      P>|t|      [0.025      0.975]\n",
       "--------------------------------------------------------------------------------------------\n",
       "const                    -4.908e+04   2857.476    -17.176      0.000   -5.47e+04   -4.35e+04\n",
       "NumPeople                -4935.4520    435.698    -11.328      0.000   -5789.450   -4081.454\n",
       "NumRooms                  5498.8402    250.747     21.930      0.000    5007.359    5990.321\n",
       "NumVehicles               6316.9860    648.758      9.737      0.000    5045.377    7588.595\n",
       "NumWorkers                1.763e+04    758.518     23.241      0.000    1.61e+04    1.91e+04\n",
       "HouseCosts                  27.6643      0.569     48.605      0.000      26.549      28.780\n",
       "ElectricBill                46.0556      5.617      8.200      0.000      35.046      57.065\n",
       "Insurance                   18.3947      0.675     27.241      0.000      17.071      19.718\n",
       "FamilyType_Male Head      7914.0288   2811.446      2.815      0.005    2403.403    1.34e+04\n",
       "FamilyType_Married        3.046e+04   1656.600     18.384      0.000    2.72e+04    3.37e+04\n",
       "NumUnits_Single detached  1011.8917   1684.329      0.601      0.548   -2289.508    4313.291\n",
       "OwnRent_Outright          5.997e+04   6711.968      8.935      0.000    4.68e+04    7.31e+04\n",
       "OwnRent_Rented            6423.3120   2002.099      3.208      0.001    2499.061    1.03e+04\n",
       "FoodStamp_Yes            -1.395e+04   2250.006     -6.199      0.000   -1.84e+04   -9537.896\n",
       "==============================================================================\n",
       "Omnibus:                    16167.427   Durbin-Watson:                   0.560\n",
       "Prob(Omnibus):                  0.000   Jarque-Bera (JB):           426638.972\n",
       "Skew:                           3.109   Prob(JB):                         0.00\n",
       "Kurtosis:                      23.286   Cond. No.                     2.75e+04\n",
       "==============================================================================\n",
       "\n",
       "Warnings:\n",
       "[1] Standard Errors assume that the covariance matrix of the errors is correctly specified.\n",
       "[2] The condition number is large, 2.75e+04. This might indicate that there are\n",
       "strong multicollinearity or other numerical problems.\n",
       "\"\"\""
      ]
     },
     "execution_count": 59,
     "metadata": {},
     "output_type": "execute_result"
    }
   ],
   "source": [
    "encoded_x = encoded_x.drop(['NumUnits_Single attached'], axis = 1)\n",
    "X = encoded_x\n",
    "Y = y\n",
    "## fit a OLS model with intercept on TV and Radio\n",
    "X = sm.add_constant(X)\n",
    "est = sm.OLS(Y, X).fit()\n",
    "\n",
    "est.summary()"
   ]
  },
  {
   "cell_type": "code",
   "execution_count": 60,
   "metadata": {},
   "outputs": [
    {
     "data": {
      "text/html": [
       "<table class=\"simpletable\">\n",
       "<caption>OLS Regression Results</caption>\n",
       "<tr>\n",
       "  <th>Dep. Variable:</th>      <td>FamilyIncome</td>   <th>  R-squared:         </th>  <td>   0.339</td>  \n",
       "</tr>\n",
       "<tr>\n",
       "  <th>Model:</th>                   <td>OLS</td>       <th>  Adj. R-squared:    </th>  <td>   0.339</td>  \n",
       "</tr>\n",
       "<tr>\n",
       "  <th>Method:</th>             <td>Least Squares</td>  <th>  F-statistic:       </th>  <td>   971.0</td>  \n",
       "</tr>\n",
       "<tr>\n",
       "  <th>Date:</th>             <td>Sat, 14 Apr 2018</td> <th>  Prob (F-statistic):</th>   <td>  0.00</td>   \n",
       "</tr>\n",
       "<tr>\n",
       "  <th>Time:</th>                 <td>12:46:54</td>     <th>  Log-Likelihood:    </th> <td>-2.8953e+05</td>\n",
       "</tr>\n",
       "<tr>\n",
       "  <th>No. Observations:</th>      <td> 22745</td>      <th>  AIC:               </th>  <td>5.791e+05</td> \n",
       "</tr>\n",
       "<tr>\n",
       "  <th>Df Residuals:</th>          <td> 22732</td>      <th>  BIC:               </th>  <td>5.792e+05</td> \n",
       "</tr>\n",
       "<tr>\n",
       "  <th>Df Model:</th>              <td>    12</td>      <th>                     </th>      <td> </td>     \n",
       "</tr>\n",
       "<tr>\n",
       "  <th>Covariance Type:</th>      <td>nonrobust</td>    <th>                     </th>      <td> </td>     \n",
       "</tr>\n",
       "</table>\n",
       "<table class=\"simpletable\">\n",
       "<tr>\n",
       "            <td></td>              <th>coef</th>     <th>std err</th>      <th>t</th>      <th>P>|t|</th>  <th>[0.025</th>    <th>0.975]</th>  \n",
       "</tr>\n",
       "<tr>\n",
       "  <th>const</th>                <td> -4.84e+04</td> <td> 2620.529</td> <td>  -18.468</td> <td> 0.000</td> <td>-5.35e+04</td> <td>-4.33e+04</td>\n",
       "</tr>\n",
       "<tr>\n",
       "  <th>NumPeople</th>            <td>-4945.2743</td> <td>  435.385</td> <td>  -11.358</td> <td> 0.000</td> <td>-5798.659</td> <td>-4091.890</td>\n",
       "</tr>\n",
       "<tr>\n",
       "  <th>NumRooms</th>             <td> 5521.3471</td> <td>  247.929</td> <td>   22.270</td> <td> 0.000</td> <td> 5035.389</td> <td> 6007.305</td>\n",
       "</tr>\n",
       "<tr>\n",
       "  <th>NumVehicles</th>          <td> 6373.5992</td> <td>  641.868</td> <td>    9.930</td> <td> 0.000</td> <td> 5115.494</td> <td> 7631.705</td>\n",
       "</tr>\n",
       "<tr>\n",
       "  <th>NumWorkers</th>           <td> 1.761e+04</td> <td>  758.106</td> <td>   23.234</td> <td> 0.000</td> <td> 1.61e+04</td> <td> 1.91e+04</td>\n",
       "</tr>\n",
       "<tr>\n",
       "  <th>HouseCosts</th>           <td>   27.6568</td> <td>    0.569</td> <td>   48.604</td> <td> 0.000</td> <td>   26.541</td> <td>   28.772</td>\n",
       "</tr>\n",
       "<tr>\n",
       "  <th>ElectricBill</th>         <td>   46.0190</td> <td>    5.616</td> <td>    8.194</td> <td> 0.000</td> <td>   35.011</td> <td>   57.027</td>\n",
       "</tr>\n",
       "<tr>\n",
       "  <th>Insurance</th>            <td>   18.3967</td> <td>    0.675</td> <td>   27.244</td> <td> 0.000</td> <td>   17.073</td> <td>   19.720</td>\n",
       "</tr>\n",
       "<tr>\n",
       "  <th>FamilyType_Male Head</th> <td> 7912.7812</td> <td> 2811.405</td> <td>    2.815</td> <td> 0.005</td> <td> 2402.235</td> <td> 1.34e+04</td>\n",
       "</tr>\n",
       "<tr>\n",
       "  <th>FamilyType_Married</th>   <td> 3.046e+04</td> <td> 1656.509</td> <td>   18.391</td> <td> 0.000</td> <td> 2.72e+04</td> <td> 3.37e+04</td>\n",
       "</tr>\n",
       "<tr>\n",
       "  <th>OwnRent_Outright</th>     <td> 5.926e+04</td> <td> 6608.528</td> <td>    8.968</td> <td> 0.000</td> <td> 4.63e+04</td> <td> 7.22e+04</td>\n",
       "</tr>\n",
       "<tr>\n",
       "  <th>OwnRent_Rented</th>       <td> 6275.9427</td> <td> 1986.987</td> <td>    3.159</td> <td> 0.002</td> <td> 2381.313</td> <td> 1.02e+04</td>\n",
       "</tr>\n",
       "<tr>\n",
       "  <th>FoodStamp_Yes</th>        <td>-1.399e+04</td> <td> 2249.131</td> <td>   -6.218</td> <td> 0.000</td> <td>-1.84e+04</td> <td>-9576.636</td>\n",
       "</tr>\n",
       "</table>\n",
       "<table class=\"simpletable\">\n",
       "<tr>\n",
       "  <th>Omnibus:</th>       <td>16166.927</td> <th>  Durbin-Watson:     </th>  <td>   0.560</td> \n",
       "</tr>\n",
       "<tr>\n",
       "  <th>Prob(Omnibus):</th>  <td> 0.000</td>   <th>  Jarque-Bera (JB):  </th> <td>426661.504</td>\n",
       "</tr>\n",
       "<tr>\n",
       "  <th>Skew:</th>           <td> 3.108</td>   <th>  Prob(JB):          </th>  <td>    0.00</td> \n",
       "</tr>\n",
       "<tr>\n",
       "  <th>Kurtosis:</th>       <td>23.287</td>   <th>  Cond. No.          </th>  <td>2.70e+04</td> \n",
       "</tr>\n",
       "</table>"
      ],
      "text/plain": [
       "<class 'statsmodels.iolib.summary.Summary'>\n",
       "\"\"\"\n",
       "                            OLS Regression Results                            \n",
       "==============================================================================\n",
       "Dep. Variable:           FamilyIncome   R-squared:                       0.339\n",
       "Model:                            OLS   Adj. R-squared:                  0.339\n",
       "Method:                 Least Squares   F-statistic:                     971.0\n",
       "Date:                Sat, 14 Apr 2018   Prob (F-statistic):               0.00\n",
       "Time:                        12:46:54   Log-Likelihood:            -2.8953e+05\n",
       "No. Observations:               22745   AIC:                         5.791e+05\n",
       "Df Residuals:                   22732   BIC:                         5.792e+05\n",
       "Df Model:                          12                                         \n",
       "Covariance Type:            nonrobust                                         \n",
       "========================================================================================\n",
       "                           coef    std err          t      P>|t|      [0.025      0.975]\n",
       "----------------------------------------------------------------------------------------\n",
       "const                 -4.84e+04   2620.529    -18.468      0.000   -5.35e+04   -4.33e+04\n",
       "NumPeople            -4945.2743    435.385    -11.358      0.000   -5798.659   -4091.890\n",
       "NumRooms              5521.3471    247.929     22.270      0.000    5035.389    6007.305\n",
       "NumVehicles           6373.5992    641.868      9.930      0.000    5115.494    7631.705\n",
       "NumWorkers            1.761e+04    758.106     23.234      0.000    1.61e+04    1.91e+04\n",
       "HouseCosts              27.6568      0.569     48.604      0.000      26.541      28.772\n",
       "ElectricBill            46.0190      5.616      8.194      0.000      35.011      57.027\n",
       "Insurance               18.3967      0.675     27.244      0.000      17.073      19.720\n",
       "FamilyType_Male Head  7912.7812   2811.405      2.815      0.005    2402.235    1.34e+04\n",
       "FamilyType_Married    3.046e+04   1656.509     18.391      0.000    2.72e+04    3.37e+04\n",
       "OwnRent_Outright      5.926e+04   6608.528      8.968      0.000    4.63e+04    7.22e+04\n",
       "OwnRent_Rented        6275.9427   1986.987      3.159      0.002    2381.313    1.02e+04\n",
       "FoodStamp_Yes        -1.399e+04   2249.131     -6.218      0.000   -1.84e+04   -9576.636\n",
       "==============================================================================\n",
       "Omnibus:                    16166.927   Durbin-Watson:                   0.560\n",
       "Prob(Omnibus):                  0.000   Jarque-Bera (JB):           426661.504\n",
       "Skew:                           3.108   Prob(JB):                         0.00\n",
       "Kurtosis:                      23.287   Cond. No.                     2.70e+04\n",
       "==============================================================================\n",
       "\n",
       "Warnings:\n",
       "[1] Standard Errors assume that the covariance matrix of the errors is correctly specified.\n",
       "[2] The condition number is large, 2.7e+04. This might indicate that there are\n",
       "strong multicollinearity or other numerical problems.\n",
       "\"\"\""
      ]
     },
     "execution_count": 60,
     "metadata": {},
     "output_type": "execute_result"
    }
   ],
   "source": [
    "encoded_x = encoded_x.drop(['NumUnits_Single detached'], axis = 1)\n",
    "X = encoded_x\n",
    "Y = y\n",
    "## fit a OLS model with intercept on TV and Radio\n",
    "X = sm.add_constant(X)\n",
    "est = sm.OLS(Y, X).fit()\n",
    "\n",
    "est.summary()"
   ]
  },
  {
   "cell_type": "markdown",
   "metadata": {},
   "source": [
    "There was no any significant improvement of this model too."
   ]
  },
  {
   "cell_type": "markdown",
   "metadata": {},
   "source": [
    "For Model 5, we will try PCA and MFA to see if they have any significant changes."
   ]
  },
  {
   "cell_type": "code",
   "execution_count": null,
   "metadata": {
    "collapsed": true
   },
   "outputs": [],
   "source": []
  }
 ],
 "metadata": {
  "kernelspec": {
   "display_name": "Python 3",
   "language": "python",
   "name": "python3"
  },
  "language_info": {
   "codemirror_mode": {
    "name": "ipython",
    "version": 3
   },
   "file_extension": ".py",
   "mimetype": "text/x-python",
   "name": "python",
   "nbconvert_exporter": "python",
   "pygments_lexer": "ipython3",
   "version": "3.6.2"
  }
 },
 "nbformat": 4,
 "nbformat_minor": 2
}
