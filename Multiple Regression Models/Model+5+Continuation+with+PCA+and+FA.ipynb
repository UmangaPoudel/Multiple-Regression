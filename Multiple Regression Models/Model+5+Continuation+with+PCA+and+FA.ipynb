{
 "cells": [
  {
   "cell_type": "code",
   "execution_count": 1,
   "metadata": {
    "collapsed": true
   },
   "outputs": [],
   "source": [
    "import pandas as pd\n",
    "import numpy as np"
   ]
  },
  {
   "cell_type": "code",
   "execution_count": 2,
   "metadata": {
    "collapsed": true
   },
   "outputs": [],
   "source": [
    "data = pd.read_csv('acs_ny.csv')"
   ]
  },
  {
   "cell_type": "markdown",
   "metadata": {},
   "source": [
    "From Model 4, we found some variables we had to drop because of multicollinearity and not enough correlation between independent and dependent variables.\n",
    "\n",
    "Acres, YearBuilt, Language, HeatingFuel, NumChildren, NumBedrooms are the variables we will drop here as well."
   ]
  },
  {
   "cell_type": "code",
   "execution_count": 3,
   "metadata": {
    "collapsed": true
   },
   "outputs": [],
   "source": [
    "data = data.drop(['Acres', 'YearBuilt', 'Language', 'HeatingFuel', 'NumChildren', 'NumBedrooms'],axis = 1)"
   ]
  },
  {
   "cell_type": "code",
   "execution_count": 4,
   "metadata": {
    "collapsed": true
   },
   "outputs": [],
   "source": [
    "y = data.iloc[:, 0:1]\n",
    "x = data.iloc[:, 1:]"
   ]
  },
  {
   "cell_type": "code",
   "execution_count": 5,
   "metadata": {
    "collapsed": true
   },
   "outputs": [],
   "source": [
    "encoded_x = pd.get_dummies(x, drop_first = True) #to get rid of dummy variable trap"
   ]
  },
  {
   "cell_type": "code",
   "execution_count": 6,
   "metadata": {
    "collapsed": true
   },
   "outputs": [],
   "source": [
    "from sklearn.model_selection import train_test_split\n",
    "X_train, X_test, Y_train, Y_test = train_test_split(encoded_x, y, test_size = 0.2, random_state = 0)"
   ]
  },
  {
   "cell_type": "markdown",
   "metadata": {},
   "source": [
    "I am going to use PCA first without standarizing the variables. \n",
    "\n",
    "Then, I am going to standardize all the variables."
   ]
  },
  {
   "cell_type": "code",
   "execution_count": 7,
   "metadata": {
    "collapsed": true
   },
   "outputs": [],
   "source": [
    "from sklearn.decomposition import PCA\n",
    "pca = PCA(n_components = None)\n",
    "X_train_pca = pca.fit_transform(X_train)\n",
    "X_test_pca = pca.transform(X_test)\n",
    "explained_variance = pca.explained_variance_ratio_"
   ]
  },
  {
   "cell_type": "code",
   "execution_count": 8,
   "metadata": {},
   "outputs": [
    {
     "data": {
      "text/plain": [
       "array([  7.53279076e-01,   2.42492061e-01,   4.22498903e-03,\n",
       "         2.20628111e-06,   8.18926315e-07,   4.33826270e-07,\n",
       "         1.89213459e-07,   7.81120429e-08,   6.83415401e-08,\n",
       "         3.41041033e-08,   2.25054130e-08,   1.43686654e-08,\n",
       "         6.07455041e-09,   2.83155563e-09])"
      ]
     },
     "execution_count": 8,
     "metadata": {},
     "output_type": "execute_result"
    }
   ],
   "source": [
    "explained_variance"
   ]
  },
  {
   "cell_type": "markdown",
   "metadata": {},
   "source": [
    "The first two principle components would explain almost 99.5% of the variance. Awesome. Let us use n_components = 2 next."
   ]
  },
  {
   "cell_type": "code",
   "execution_count": 9,
   "metadata": {
    "collapsed": true
   },
   "outputs": [],
   "source": [
    "pca = PCA(n_components = 2)\n",
    "X_train_pca = pca.fit_transform(X_train)\n",
    "X_test_pca = pca.transform(X_test)\n",
    "explained_variance = pca.explained_variance_ratio_"
   ]
  },
  {
   "cell_type": "code",
   "execution_count": 10,
   "metadata": {},
   "outputs": [
    {
     "data": {
      "text/plain": [
       "0.99577113638526049"
      ]
     },
     "execution_count": 10,
     "metadata": {},
     "output_type": "execute_result"
    }
   ],
   "source": [
    "explained_variance.sum()"
   ]
  },
  {
   "cell_type": "code",
   "execution_count": 11,
   "metadata": {},
   "outputs": [
    {
     "name": "stderr",
     "output_type": "stream",
     "text": [
      "C:\\Program Files (x86)\\Microsoft Visual Studio\\Shared\\Anaconda3_64\\lib\\site-packages\\statsmodels\\compat\\pandas.py:56: FutureWarning: The pandas.core.datetools module is deprecated and will be removed in a future version. Please use the pandas.tseries module instead.\n",
      "  from pandas.core import datetools\n"
     ]
    }
   ],
   "source": [
    "import statsmodels.api as sm"
   ]
  },
  {
   "cell_type": "code",
   "execution_count": 13,
   "metadata": {},
   "outputs": [
    {
     "data": {
      "text/html": [
       "<table class=\"simpletable\">\n",
       "<caption>OLS Regression Results</caption>\n",
       "<tr>\n",
       "  <th>Dep. Variable:</th>      <td>FamilyIncome</td>   <th>  R-squared:         </th>  <td>   0.258</td>  \n",
       "</tr>\n",
       "<tr>\n",
       "  <th>Model:</th>                   <td>OLS</td>       <th>  Adj. R-squared:    </th>  <td>   0.258</td>  \n",
       "</tr>\n",
       "<tr>\n",
       "  <th>Method:</th>             <td>Least Squares</td>  <th>  F-statistic:       </th>  <td>   3163.</td>  \n",
       "</tr>\n",
       "<tr>\n",
       "  <th>Date:</th>             <td>Sat, 14 Apr 2018</td> <th>  Prob (F-statistic):</th>   <td>  0.00</td>   \n",
       "</tr>\n",
       "<tr>\n",
       "  <th>Time:</th>                 <td>13:10:38</td>     <th>  Log-Likelihood:    </th> <td>-2.3282e+05</td>\n",
       "</tr>\n",
       "<tr>\n",
       "  <th>No. Observations:</th>      <td> 18196</td>      <th>  AIC:               </th>  <td>4.657e+05</td> \n",
       "</tr>\n",
       "<tr>\n",
       "  <th>Df Residuals:</th>          <td> 18193</td>      <th>  BIC:               </th>  <td>4.657e+05</td> \n",
       "</tr>\n",
       "<tr>\n",
       "  <th>Df Model:</th>              <td>     2</td>      <th>                     </th>      <td> </td>     \n",
       "</tr>\n",
       "<tr>\n",
       "  <th>Covariance Type:</th>      <td>nonrobust</td>    <th>                     </th>      <td> </td>     \n",
       "</tr>\n",
       "</table>\n",
       "<table class=\"simpletable\">\n",
       "<tr>\n",
       "    <td></td>       <th>coef</th>     <th>std err</th>      <th>t</th>      <th>P>|t|</th>  <th>[0.025</th>    <th>0.975]</th>  \n",
       "</tr>\n",
       "<tr>\n",
       "  <th>const</th> <td> 1.109e+05</td> <td>  646.796</td> <td>  171.454</td> <td> 0.000</td> <td>  1.1e+05</td> <td> 1.12e+05</td>\n",
       "</tr>\n",
       "<tr>\n",
       "  <th>x1</th>    <td>   38.8084</td> <td>    0.488</td> <td>   79.530</td> <td> 0.000</td> <td>   37.852</td> <td>   39.765</td>\n",
       "</tr>\n",
       "<tr>\n",
       "  <th>x2</th>    <td>    0.4086</td> <td>    0.860</td> <td>    0.475</td> <td> 0.635</td> <td>   -1.277</td> <td>    2.094</td>\n",
       "</tr>\n",
       "</table>\n",
       "<table class=\"simpletable\">\n",
       "<tr>\n",
       "  <th>Omnibus:</th>       <td>12122.225</td> <th>  Durbin-Watson:     </th>  <td>   2.005</td> \n",
       "</tr>\n",
       "<tr>\n",
       "  <th>Prob(Omnibus):</th>  <td> 0.000</td>   <th>  Jarque-Bera (JB):  </th> <td>270385.674</td>\n",
       "</tr>\n",
       "<tr>\n",
       "  <th>Skew:</th>           <td> 2.881</td>   <th>  Prob(JB):          </th>  <td>    0.00</td> \n",
       "</tr>\n",
       "<tr>\n",
       "  <th>Kurtosis:</th>       <td>20.984</td>   <th>  Cond. No.          </th>  <td>1.33e+03</td> \n",
       "</tr>\n",
       "</table>"
      ],
      "text/plain": [
       "<class 'statsmodels.iolib.summary.Summary'>\n",
       "\"\"\"\n",
       "                            OLS Regression Results                            \n",
       "==============================================================================\n",
       "Dep. Variable:           FamilyIncome   R-squared:                       0.258\n",
       "Model:                            OLS   Adj. R-squared:                  0.258\n",
       "Method:                 Least Squares   F-statistic:                     3163.\n",
       "Date:                Sat, 14 Apr 2018   Prob (F-statistic):               0.00\n",
       "Time:                        13:10:38   Log-Likelihood:            -2.3282e+05\n",
       "No. Observations:               18196   AIC:                         4.657e+05\n",
       "Df Residuals:                   18193   BIC:                         4.657e+05\n",
       "Df Model:                           2                                         \n",
       "Covariance Type:            nonrobust                                         \n",
       "==============================================================================\n",
       "                 coef    std err          t      P>|t|      [0.025      0.975]\n",
       "------------------------------------------------------------------------------\n",
       "const       1.109e+05    646.796    171.454      0.000     1.1e+05    1.12e+05\n",
       "x1            38.8084      0.488     79.530      0.000      37.852      39.765\n",
       "x2             0.4086      0.860      0.475      0.635      -1.277       2.094\n",
       "==============================================================================\n",
       "Omnibus:                    12122.225   Durbin-Watson:                   2.005\n",
       "Prob(Omnibus):                  0.000   Jarque-Bera (JB):           270385.674\n",
       "Skew:                           2.881   Prob(JB):                         0.00\n",
       "Kurtosis:                      20.984   Cond. No.                     1.33e+03\n",
       "==============================================================================\n",
       "\n",
       "Warnings:\n",
       "[1] Standard Errors assume that the covariance matrix of the errors is correctly specified.\n",
       "[2] The condition number is large, 1.33e+03. This might indicate that there are\n",
       "strong multicollinearity or other numerical problems.\n",
       "\"\"\""
      ]
     },
     "execution_count": 13,
     "metadata": {},
     "output_type": "execute_result"
    }
   ],
   "source": [
    "X = X_train_pca\n",
    "Y = Y_train\n",
    "## fit a OLS model with intercept on TV and Radio\n",
    "X = sm.add_constant(X)\n",
    "est = sm.OLS(Y, X).fit()\n",
    "\n",
    "est.summary()"
   ]
  },
  {
   "cell_type": "markdown",
   "metadata": {},
   "source": [
    "Not really any improvement. We will standardize all variables now."
   ]
  },
  {
   "cell_type": "code",
   "execution_count": 14,
   "metadata": {
    "collapsed": true
   },
   "outputs": [],
   "source": [
    "from sklearn.preprocessing import StandardScaler\n",
    "sc = StandardScaler()\n",
    "X_train_std = sc.fit_transform(X_train)\n",
    "X_test_std = sc.transform(X_test)"
   ]
  },
  {
   "cell_type": "code",
   "execution_count": 16,
   "metadata": {
    "collapsed": true
   },
   "outputs": [],
   "source": [
    "from sklearn.decomposition import PCA\n",
    "pca = PCA(n_components = None)\n",
    "X_train_pca = pca.fit_transform(X_train_std)\n",
    "X_test_pca = pca.transform(X_test_std)\n",
    "explained_variance = pca.explained_variance_ratio_"
   ]
  },
  {
   "cell_type": "code",
   "execution_count": 17,
   "metadata": {},
   "outputs": [
    {
     "data": {
      "text/plain": [
       "array([ 0.20053618,  0.13138799,  0.11152171,  0.09922881,  0.07979838,\n",
       "        0.06797892,  0.05669482,  0.05135995,  0.04793473,  0.04269118,\n",
       "        0.03816415,  0.03258892,  0.03063314,  0.00948112])"
      ]
     },
     "execution_count": 17,
     "metadata": {},
     "output_type": "execute_result"
    }
   ],
   "source": [
    "explained_variance"
   ]
  },
  {
   "cell_type": "markdown",
   "metadata": {},
   "source": [
    "We will use n_components = 8."
   ]
  },
  {
   "cell_type": "code",
   "execution_count": 18,
   "metadata": {
    "collapsed": true
   },
   "outputs": [],
   "source": [
    "pca = PCA(n_components = 8)\n",
    "X_train_pca = pca.fit_transform(X_train_std)\n",
    "X_test_pca = pca.transform(X_test_std)\n",
    "explained_variance = pca.explained_variance_ratio_"
   ]
  },
  {
   "cell_type": "code",
   "execution_count": 19,
   "metadata": {},
   "outputs": [
    {
     "data": {
      "text/plain": [
       "0.79850675137283367"
      ]
     },
     "execution_count": 19,
     "metadata": {},
     "output_type": "execute_result"
    }
   ],
   "source": [
    "explained_variance.sum()"
   ]
  },
  {
   "cell_type": "code",
   "execution_count": 20,
   "metadata": {
    "collapsed": true
   },
   "outputs": [],
   "source": [
    "import statsmodels.api as sm"
   ]
  },
  {
   "cell_type": "code",
   "execution_count": 21,
   "metadata": {},
   "outputs": [
    {
     "data": {
      "text/html": [
       "<table class=\"simpletable\">\n",
       "<caption>OLS Regression Results</caption>\n",
       "<tr>\n",
       "  <th>Dep. Variable:</th>      <td>FamilyIncome</td>   <th>  R-squared:         </th>  <td>   0.292</td>  \n",
       "</tr>\n",
       "<tr>\n",
       "  <th>Model:</th>                   <td>OLS</td>       <th>  Adj. R-squared:    </th>  <td>   0.292</td>  \n",
       "</tr>\n",
       "<tr>\n",
       "  <th>Method:</th>             <td>Least Squares</td>  <th>  F-statistic:       </th>  <td>   937.6</td>  \n",
       "</tr>\n",
       "<tr>\n",
       "  <th>Date:</th>             <td>Sat, 14 Apr 2018</td> <th>  Prob (F-statistic):</th>   <td>  0.00</td>   \n",
       "</tr>\n",
       "<tr>\n",
       "  <th>Time:</th>                 <td>13:15:06</td>     <th>  Log-Likelihood:    </th> <td>-2.3240e+05</td>\n",
       "</tr>\n",
       "<tr>\n",
       "  <th>No. Observations:</th>      <td> 18196</td>      <th>  AIC:               </th>  <td>4.648e+05</td> \n",
       "</tr>\n",
       "<tr>\n",
       "  <th>Df Residuals:</th>          <td> 18187</td>      <th>  BIC:               </th>  <td>4.649e+05</td> \n",
       "</tr>\n",
       "<tr>\n",
       "  <th>Df Model:</th>              <td>     8</td>      <th>                     </th>      <td> </td>     \n",
       "</tr>\n",
       "<tr>\n",
       "  <th>Covariance Type:</th>      <td>nonrobust</td>    <th>                     </th>      <td> </td>     \n",
       "</tr>\n",
       "</table>\n",
       "<table class=\"simpletable\">\n",
       "<tr>\n",
       "    <td></td>       <th>coef</th>     <th>std err</th>      <th>t</th>      <th>P>|t|</th>  <th>[0.025</th>    <th>0.975]</th>  \n",
       "</tr>\n",
       "<tr>\n",
       "  <th>const</th> <td> 1.109e+05</td> <td>  631.903</td> <td>  175.495</td> <td> 0.000</td> <td>  1.1e+05</td> <td> 1.12e+05</td>\n",
       "</tr>\n",
       "<tr>\n",
       "  <th>x1</th>    <td>-2.723e+04</td> <td>  377.129</td> <td>  -72.214</td> <td> 0.000</td> <td> -2.8e+04</td> <td>-2.65e+04</td>\n",
       "</tr>\n",
       "<tr>\n",
       "  <th>x2</th>    <td> 2.056e+04</td> <td>  465.917</td> <td>   44.129</td> <td> 0.000</td> <td> 1.96e+04</td> <td> 2.15e+04</td>\n",
       "</tr>\n",
       "<tr>\n",
       "  <th>x3</th>    <td> 3082.4431</td> <td>  505.716</td> <td>    6.095</td> <td> 0.000</td> <td> 2091.192</td> <td> 4073.694</td>\n",
       "</tr>\n",
       "<tr>\n",
       "  <th>x4</th>    <td>-8769.1216</td> <td>  536.127</td> <td>  -16.356</td> <td> 0.000</td> <td>-9819.981</td> <td>-7718.262</td>\n",
       "</tr>\n",
       "<tr>\n",
       "  <th>x5</th>    <td> -342.7102</td> <td>  597.846</td> <td>   -0.573</td> <td> 0.566</td> <td>-1514.545</td> <td>  829.125</td>\n",
       "</tr>\n",
       "<tr>\n",
       "  <th>x6</th>    <td>-3287.2481</td> <td>  647.738</td> <td>   -5.075</td> <td> 0.000</td> <td>-4556.876</td> <td>-2017.621</td>\n",
       "</tr>\n",
       "<tr>\n",
       "  <th>x7</th>    <td>   95.1233</td> <td>  709.275</td> <td>    0.134</td> <td> 0.893</td> <td>-1295.123</td> <td> 1485.370</td>\n",
       "</tr>\n",
       "<tr>\n",
       "  <th>x8</th>    <td> 2051.6037</td> <td>  745.202</td> <td>    2.753</td> <td> 0.006</td> <td>  590.937</td> <td> 3512.271</td>\n",
       "</tr>\n",
       "</table>\n",
       "<table class=\"simpletable\">\n",
       "<tr>\n",
       "  <th>Omnibus:</th>       <td>13014.910</td> <th>  Durbin-Watson:     </th>  <td>   2.004</td> \n",
       "</tr>\n",
       "<tr>\n",
       "  <th>Prob(Omnibus):</th>  <td> 0.000</td>   <th>  Jarque-Bera (JB):  </th> <td>326688.145</td>\n",
       "</tr>\n",
       "<tr>\n",
       "  <th>Skew:</th>           <td> 3.156</td>   <th>  Prob(JB):          </th>  <td>    0.00</td> \n",
       "</tr>\n",
       "<tr>\n",
       "  <th>Kurtosis:</th>       <td>22.775</td>   <th>  Cond. No.          </th>  <td>    1.98</td> \n",
       "</tr>\n",
       "</table>"
      ],
      "text/plain": [
       "<class 'statsmodels.iolib.summary.Summary'>\n",
       "\"\"\"\n",
       "                            OLS Regression Results                            \n",
       "==============================================================================\n",
       "Dep. Variable:           FamilyIncome   R-squared:                       0.292\n",
       "Model:                            OLS   Adj. R-squared:                  0.292\n",
       "Method:                 Least Squares   F-statistic:                     937.6\n",
       "Date:                Sat, 14 Apr 2018   Prob (F-statistic):               0.00\n",
       "Time:                        13:15:06   Log-Likelihood:            -2.3240e+05\n",
       "No. Observations:               18196   AIC:                         4.648e+05\n",
       "Df Residuals:                   18187   BIC:                         4.649e+05\n",
       "Df Model:                           8                                         \n",
       "Covariance Type:            nonrobust                                         \n",
       "==============================================================================\n",
       "                 coef    std err          t      P>|t|      [0.025      0.975]\n",
       "------------------------------------------------------------------------------\n",
       "const       1.109e+05    631.903    175.495      0.000     1.1e+05    1.12e+05\n",
       "x1         -2.723e+04    377.129    -72.214      0.000    -2.8e+04   -2.65e+04\n",
       "x2          2.056e+04    465.917     44.129      0.000    1.96e+04    2.15e+04\n",
       "x3          3082.4431    505.716      6.095      0.000    2091.192    4073.694\n",
       "x4         -8769.1216    536.127    -16.356      0.000   -9819.981   -7718.262\n",
       "x5          -342.7102    597.846     -0.573      0.566   -1514.545     829.125\n",
       "x6         -3287.2481    647.738     -5.075      0.000   -4556.876   -2017.621\n",
       "x7            95.1233    709.275      0.134      0.893   -1295.123    1485.370\n",
       "x8          2051.6037    745.202      2.753      0.006     590.937    3512.271\n",
       "==============================================================================\n",
       "Omnibus:                    13014.910   Durbin-Watson:                   2.004\n",
       "Prob(Omnibus):                  0.000   Jarque-Bera (JB):           326688.145\n",
       "Skew:                           3.156   Prob(JB):                         0.00\n",
       "Kurtosis:                      22.775   Cond. No.                         1.98\n",
       "==============================================================================\n",
       "\n",
       "Warnings:\n",
       "[1] Standard Errors assume that the covariance matrix of the errors is correctly specified.\n",
       "\"\"\""
      ]
     },
     "execution_count": 21,
     "metadata": {},
     "output_type": "execute_result"
    }
   ],
   "source": [
    "X = X_train_pca\n",
    "Y = Y_train\n",
    "## fit a OLS model with intercept on TV and Radio\n",
    "X = sm.add_constant(X)\n",
    "est = sm.OLS(Y, X).fit()\n",
    "\n",
    "est.summary()"
   ]
  },
  {
   "cell_type": "markdown",
   "metadata": {},
   "source": [
    "Improvement after standarization but not the best model."
   ]
  },
  {
   "cell_type": "markdown",
   "metadata": {},
   "source": [
    "We are going to use Multiple Factor Analysis for the next calculation because MFA works best with both categorical and continuous variables."
   ]
  },
  {
   "cell_type": "code",
   "execution_count": 24,
   "metadata": {
    "collapsed": true
   },
   "outputs": [],
   "source": [
    "from sklearn.decomposition import FactorAnalysis"
   ]
  },
  {
   "cell_type": "code",
   "execution_count": 33,
   "metadata": {
    "collapsed": true
   },
   "outputs": [],
   "source": [
    "fa = FactorAnalysis()\n",
    "X_train_fa = fa.fit_transform(X_train)\n",
    "X_test_fa = fa.transform(X_test)"
   ]
  },
  {
   "cell_type": "code",
   "execution_count": 39,
   "metadata": {},
   "outputs": [
    {
     "data": {
      "text/html": [
       "<div>\n",
       "<style>\n",
       "    .dataframe thead tr:only-child th {\n",
       "        text-align: right;\n",
       "    }\n",
       "\n",
       "    .dataframe thead th {\n",
       "        text-align: left;\n",
       "    }\n",
       "\n",
       "    .dataframe tbody tr th {\n",
       "        vertical-align: top;\n",
       "    }\n",
       "</style>\n",
       "<table border=\"1\" class=\"dataframe\">\n",
       "  <thead>\n",
       "    <tr style=\"text-align: right;\">\n",
       "      <th></th>\n",
       "      <th>0</th>\n",
       "      <th>1</th>\n",
       "      <th>2</th>\n",
       "      <th>3</th>\n",
       "      <th>4</th>\n",
       "      <th>5</th>\n",
       "      <th>6</th>\n",
       "      <th>7</th>\n",
       "      <th>8</th>\n",
       "      <th>9</th>\n",
       "      <th>10</th>\n",
       "      <th>11</th>\n",
       "      <th>12</th>\n",
       "      <th>13</th>\n",
       "    </tr>\n",
       "  </thead>\n",
       "  <tbody>\n",
       "    <tr>\n",
       "      <th>0</th>\n",
       "      <td>0.212486</td>\n",
       "      <td>0.619490</td>\n",
       "      <td>0.090751</td>\n",
       "      <td>0.080650</td>\n",
       "      <td>1065.088576</td>\n",
       "      <td>40.789294</td>\n",
       "      <td>787.918578</td>\n",
       "      <td>-0.010003</td>\n",
       "      <td>0.048069</td>\n",
       "      <td>0.002864</td>\n",
       "      <td>0.026030</td>\n",
       "      <td>-0.005736</td>\n",
       "      <td>-0.077084</td>\n",
       "      <td>-0.037527</td>\n",
       "    </tr>\n",
       "    <tr>\n",
       "      <th>1</th>\n",
       "      <td>-0.166071</td>\n",
       "      <td>0.170240</td>\n",
       "      <td>0.070700</td>\n",
       "      <td>-0.035539</td>\n",
       "      <td>-447.300638</td>\n",
       "      <td>1.789355</td>\n",
       "      <td>604.556959</td>\n",
       "      <td>-0.005315</td>\n",
       "      <td>0.015073</td>\n",
       "      <td>-0.025508</td>\n",
       "      <td>0.023513</td>\n",
       "      <td>0.004629</td>\n",
       "      <td>-0.073221</td>\n",
       "      <td>-0.008098</td>\n",
       "    </tr>\n",
       "    <tr>\n",
       "      <th>2</th>\n",
       "      <td>0.253265</td>\n",
       "      <td>0.218095</td>\n",
       "      <td>0.103842</td>\n",
       "      <td>0.050979</td>\n",
       "      <td>-2.315289</td>\n",
       "      <td>99.214674</td>\n",
       "      <td>-2.006687</td>\n",
       "      <td>-0.001585</td>\n",
       "      <td>-0.002831</td>\n",
       "      <td>-0.002314</td>\n",
       "      <td>0.003245</td>\n",
       "      <td>0.000944</td>\n",
       "      <td>0.005576</td>\n",
       "      <td>0.009177</td>\n",
       "    </tr>\n",
       "    <tr>\n",
       "      <th>3</th>\n",
       "      <td>0.257755</td>\n",
       "      <td>1.984586</td>\n",
       "      <td>0.247091</td>\n",
       "      <td>0.133713</td>\n",
       "      <td>-0.000427</td>\n",
       "      <td>-0.005467</td>\n",
       "      <td>-0.000956</td>\n",
       "      <td>-0.012403</td>\n",
       "      <td>0.048969</td>\n",
       "      <td>-0.079090</td>\n",
       "      <td>0.097092</td>\n",
       "      <td>-0.006539</td>\n",
       "      <td>-0.049475</td>\n",
       "      <td>-0.019936</td>\n",
       "    </tr>\n",
       "    <tr>\n",
       "      <th>4</th>\n",
       "      <td>-0.069756</td>\n",
       "      <td>0.301680</td>\n",
       "      <td>-0.406775</td>\n",
       "      <td>-0.290256</td>\n",
       "      <td>-0.000021</td>\n",
       "      <td>0.000165</td>\n",
       "      <td>0.000196</td>\n",
       "      <td>0.047154</td>\n",
       "      <td>-0.145194</td>\n",
       "      <td>0.133931</td>\n",
       "      <td>-0.151637</td>\n",
       "      <td>0.011072</td>\n",
       "      <td>0.096649</td>\n",
       "      <td>0.079371</td>\n",
       "    </tr>\n",
       "    <tr>\n",
       "      <th>5</th>\n",
       "      <td>0.896366</td>\n",
       "      <td>-0.091501</td>\n",
       "      <td>0.110402</td>\n",
       "      <td>0.270713</td>\n",
       "      <td>-0.000202</td>\n",
       "      <td>-0.002562</td>\n",
       "      <td>0.000268</td>\n",
       "      <td>-0.003529</td>\n",
       "      <td>0.011321</td>\n",
       "      <td>0.060808</td>\n",
       "      <td>-0.070244</td>\n",
       "      <td>-0.002109</td>\n",
       "      <td>0.041861</td>\n",
       "      <td>0.056800</td>\n",
       "    </tr>\n",
       "    <tr>\n",
       "      <th>6</th>\n",
       "      <td>-0.152551</td>\n",
       "      <td>0.059518</td>\n",
       "      <td>0.077531</td>\n",
       "      <td>0.099551</td>\n",
       "      <td>-0.000031</td>\n",
       "      <td>0.000240</td>\n",
       "      <td>-0.000120</td>\n",
       "      <td>-0.062614</td>\n",
       "      <td>0.129284</td>\n",
       "      <td>0.119256</td>\n",
       "      <td>-0.125515</td>\n",
       "      <td>0.019190</td>\n",
       "      <td>-0.047274</td>\n",
       "      <td>-0.065229</td>\n",
       "    </tr>\n",
       "    <tr>\n",
       "      <th>7</th>\n",
       "      <td>-0.038673</td>\n",
       "      <td>-0.002759</td>\n",
       "      <td>0.130854</td>\n",
       "      <td>0.098987</td>\n",
       "      <td>0.000005</td>\n",
       "      <td>-0.000069</td>\n",
       "      <td>-0.000033</td>\n",
       "      <td>0.061511</td>\n",
       "      <td>-0.067667</td>\n",
       "      <td>0.018677</td>\n",
       "      <td>-0.019188</td>\n",
       "      <td>0.003563</td>\n",
       "      <td>-0.032143</td>\n",
       "      <td>-0.031168</td>\n",
       "    </tr>\n",
       "    <tr>\n",
       "      <th>8</th>\n",
       "      <td>0.000000</td>\n",
       "      <td>-0.000000</td>\n",
       "      <td>-0.000000</td>\n",
       "      <td>-0.000000</td>\n",
       "      <td>0.000000</td>\n",
       "      <td>-0.000000</td>\n",
       "      <td>-0.000000</td>\n",
       "      <td>0.000000</td>\n",
       "      <td>0.000000</td>\n",
       "      <td>-0.000000</td>\n",
       "      <td>0.000000</td>\n",
       "      <td>0.000000</td>\n",
       "      <td>-0.000000</td>\n",
       "      <td>0.000000</td>\n",
       "    </tr>\n",
       "    <tr>\n",
       "      <th>9</th>\n",
       "      <td>-0.000000</td>\n",
       "      <td>0.000000</td>\n",
       "      <td>0.000000</td>\n",
       "      <td>0.000000</td>\n",
       "      <td>0.000000</td>\n",
       "      <td>-0.000000</td>\n",
       "      <td>0.000000</td>\n",
       "      <td>-0.000000</td>\n",
       "      <td>-0.000000</td>\n",
       "      <td>-0.000000</td>\n",
       "      <td>0.000000</td>\n",
       "      <td>0.000000</td>\n",
       "      <td>0.000000</td>\n",
       "      <td>0.000000</td>\n",
       "    </tr>\n",
       "    <tr>\n",
       "      <th>10</th>\n",
       "      <td>-0.000000</td>\n",
       "      <td>-0.000000</td>\n",
       "      <td>0.000000</td>\n",
       "      <td>-0.000000</td>\n",
       "      <td>0.000000</td>\n",
       "      <td>0.000000</td>\n",
       "      <td>-0.000000</td>\n",
       "      <td>-0.000000</td>\n",
       "      <td>0.000000</td>\n",
       "      <td>0.000000</td>\n",
       "      <td>-0.000000</td>\n",
       "      <td>-0.000000</td>\n",
       "      <td>-0.000000</td>\n",
       "      <td>0.000000</td>\n",
       "    </tr>\n",
       "    <tr>\n",
       "      <th>11</th>\n",
       "      <td>0.000000</td>\n",
       "      <td>-0.000000</td>\n",
       "      <td>0.000000</td>\n",
       "      <td>-0.000000</td>\n",
       "      <td>0.000000</td>\n",
       "      <td>-0.000000</td>\n",
       "      <td>0.000000</td>\n",
       "      <td>0.000000</td>\n",
       "      <td>0.000000</td>\n",
       "      <td>0.000000</td>\n",
       "      <td>-0.000000</td>\n",
       "      <td>-0.000000</td>\n",
       "      <td>0.000000</td>\n",
       "      <td>-0.000000</td>\n",
       "    </tr>\n",
       "    <tr>\n",
       "      <th>12</th>\n",
       "      <td>-0.000000</td>\n",
       "      <td>0.000000</td>\n",
       "      <td>-0.000000</td>\n",
       "      <td>0.000000</td>\n",
       "      <td>-0.000000</td>\n",
       "      <td>0.000000</td>\n",
       "      <td>0.000000</td>\n",
       "      <td>0.000000</td>\n",
       "      <td>0.000000</td>\n",
       "      <td>-0.000000</td>\n",
       "      <td>-0.000000</td>\n",
       "      <td>0.000000</td>\n",
       "      <td>0.000000</td>\n",
       "      <td>0.000000</td>\n",
       "    </tr>\n",
       "    <tr>\n",
       "      <th>13</th>\n",
       "      <td>0.000000</td>\n",
       "      <td>0.000000</td>\n",
       "      <td>-0.000000</td>\n",
       "      <td>0.000000</td>\n",
       "      <td>0.000000</td>\n",
       "      <td>0.000000</td>\n",
       "      <td>0.000000</td>\n",
       "      <td>-0.000000</td>\n",
       "      <td>-0.000000</td>\n",
       "      <td>-0.000000</td>\n",
       "      <td>-0.000000</td>\n",
       "      <td>0.000000</td>\n",
       "      <td>-0.000000</td>\n",
       "      <td>-0.000000</td>\n",
       "    </tr>\n",
       "  </tbody>\n",
       "</table>\n",
       "</div>"
      ],
      "text/plain": [
       "          0         1         2         3            4          5   \\\n",
       "0   0.212486  0.619490  0.090751  0.080650  1065.088576  40.789294   \n",
       "1  -0.166071  0.170240  0.070700 -0.035539  -447.300638   1.789355   \n",
       "2   0.253265  0.218095  0.103842  0.050979    -2.315289  99.214674   \n",
       "3   0.257755  1.984586  0.247091  0.133713    -0.000427  -0.005467   \n",
       "4  -0.069756  0.301680 -0.406775 -0.290256    -0.000021   0.000165   \n",
       "5   0.896366 -0.091501  0.110402  0.270713    -0.000202  -0.002562   \n",
       "6  -0.152551  0.059518  0.077531  0.099551    -0.000031   0.000240   \n",
       "7  -0.038673 -0.002759  0.130854  0.098987     0.000005  -0.000069   \n",
       "8   0.000000 -0.000000 -0.000000 -0.000000     0.000000  -0.000000   \n",
       "9  -0.000000  0.000000  0.000000  0.000000     0.000000  -0.000000   \n",
       "10 -0.000000 -0.000000  0.000000 -0.000000     0.000000   0.000000   \n",
       "11  0.000000 -0.000000  0.000000 -0.000000     0.000000  -0.000000   \n",
       "12 -0.000000  0.000000 -0.000000  0.000000    -0.000000   0.000000   \n",
       "13  0.000000  0.000000 -0.000000  0.000000     0.000000   0.000000   \n",
       "\n",
       "            6         7         8         9         10        11        12  \\\n",
       "0   787.918578 -0.010003  0.048069  0.002864  0.026030 -0.005736 -0.077084   \n",
       "1   604.556959 -0.005315  0.015073 -0.025508  0.023513  0.004629 -0.073221   \n",
       "2    -2.006687 -0.001585 -0.002831 -0.002314  0.003245  0.000944  0.005576   \n",
       "3    -0.000956 -0.012403  0.048969 -0.079090  0.097092 -0.006539 -0.049475   \n",
       "4     0.000196  0.047154 -0.145194  0.133931 -0.151637  0.011072  0.096649   \n",
       "5     0.000268 -0.003529  0.011321  0.060808 -0.070244 -0.002109  0.041861   \n",
       "6    -0.000120 -0.062614  0.129284  0.119256 -0.125515  0.019190 -0.047274   \n",
       "7    -0.000033  0.061511 -0.067667  0.018677 -0.019188  0.003563 -0.032143   \n",
       "8    -0.000000  0.000000  0.000000 -0.000000  0.000000  0.000000 -0.000000   \n",
       "9     0.000000 -0.000000 -0.000000 -0.000000  0.000000  0.000000  0.000000   \n",
       "10   -0.000000 -0.000000  0.000000  0.000000 -0.000000 -0.000000 -0.000000   \n",
       "11    0.000000  0.000000  0.000000  0.000000 -0.000000 -0.000000  0.000000   \n",
       "12    0.000000  0.000000  0.000000 -0.000000 -0.000000  0.000000  0.000000   \n",
       "13    0.000000 -0.000000 -0.000000 -0.000000 -0.000000  0.000000 -0.000000   \n",
       "\n",
       "          13  \n",
       "0  -0.037527  \n",
       "1  -0.008098  \n",
       "2   0.009177  \n",
       "3  -0.019936  \n",
       "4   0.079371  \n",
       "5   0.056800  \n",
       "6  -0.065229  \n",
       "7  -0.031168  \n",
       "8   0.000000  \n",
       "9   0.000000  \n",
       "10  0.000000  \n",
       "11 -0.000000  \n",
       "12  0.000000  \n",
       "13 -0.000000  "
      ]
     },
     "execution_count": 39,
     "metadata": {},
     "output_type": "execute_result"
    }
   ],
   "source": [
    "pd.DataFrame(fa.components_)"
   ]
  },
  {
   "cell_type": "code",
   "execution_count": 40,
   "metadata": {
    "collapsed": true
   },
   "outputs": [],
   "source": [
    "# import statsmodels.api as sm"
   ]
  },
  {
   "cell_type": "code",
   "execution_count": 41,
   "metadata": {},
   "outputs": [
    {
     "name": "stderr",
     "output_type": "stream",
     "text": [
      "C:\\Program Files (x86)\\Microsoft Visual Studio\\Shared\\Anaconda3_64\\lib\\site-packages\\statsmodels\\regression\\linear_model.py:1471: RuntimeWarning: divide by zero encountered in double_scalars\n",
      "  return np.sqrt(eigvals[0]/eigvals[-1])\n",
      "C:\\Program Files (x86)\\Microsoft Visual Studio\\Shared\\Anaconda3_64\\lib\\site-packages\\statsmodels\\base\\model.py:1036: RuntimeWarning: invalid value encountered in true_divide\n",
      "  return self.params / self.bse\n",
      "C:\\Program Files (x86)\\Microsoft Visual Studio\\Shared\\Anaconda3_64\\lib\\site-packages\\scipy\\stats\\_distn_infrastructure.py:879: RuntimeWarning: invalid value encountered in greater\n",
      "  return (self.a < x) & (x < self.b)\n",
      "C:\\Program Files (x86)\\Microsoft Visual Studio\\Shared\\Anaconda3_64\\lib\\site-packages\\scipy\\stats\\_distn_infrastructure.py:879: RuntimeWarning: invalid value encountered in less\n",
      "  return (self.a < x) & (x < self.b)\n",
      "C:\\Program Files (x86)\\Microsoft Visual Studio\\Shared\\Anaconda3_64\\lib\\site-packages\\scipy\\stats\\_distn_infrastructure.py:1818: RuntimeWarning: invalid value encountered in less_equal\n",
      "  cond2 = cond0 & (x <= self.a)\n"
     ]
    },
    {
     "data": {
      "text/html": [
       "<table class=\"simpletable\">\n",
       "<caption>OLS Regression Results</caption>\n",
       "<tr>\n",
       "  <th>Dep. Variable:</th>      <td>FamilyIncome</td>   <th>  R-squared:         </th>  <td>   0.322</td>  \n",
       "</tr>\n",
       "<tr>\n",
       "  <th>Model:</th>                   <td>OLS</td>       <th>  Adj. R-squared:    </th>  <td>   0.322</td>  \n",
       "</tr>\n",
       "<tr>\n",
       "  <th>Method:</th>             <td>Least Squares</td>  <th>  F-statistic:       </th>  <td>   1080.</td>  \n",
       "</tr>\n",
       "<tr>\n",
       "  <th>Date:</th>             <td>Sat, 14 Apr 2018</td> <th>  Prob (F-statistic):</th>   <td>  0.00</td>   \n",
       "</tr>\n",
       "<tr>\n",
       "  <th>Time:</th>                 <td>14:15:40</td>     <th>  Log-Likelihood:    </th> <td>-2.3200e+05</td>\n",
       "</tr>\n",
       "<tr>\n",
       "  <th>No. Observations:</th>      <td> 18196</td>      <th>  AIC:               </th>  <td>4.640e+05</td> \n",
       "</tr>\n",
       "<tr>\n",
       "  <th>Df Residuals:</th>          <td> 18187</td>      <th>  BIC:               </th>  <td>4.641e+05</td> \n",
       "</tr>\n",
       "<tr>\n",
       "  <th>Df Model:</th>              <td>     8</td>      <th>                     </th>      <td> </td>     \n",
       "</tr>\n",
       "<tr>\n",
       "  <th>Covariance Type:</th>      <td>nonrobust</td>    <th>                     </th>      <td> </td>     \n",
       "</tr>\n",
       "</table>\n",
       "<table class=\"simpletable\">\n",
       "<tr>\n",
       "    <td></td>       <th>coef</th>     <th>std err</th>      <th>t</th>      <th>P>|t|</th>  <th>[0.025</th>    <th>0.975]</th>  \n",
       "</tr>\n",
       "<tr>\n",
       "  <th>const</th> <td> 1.109e+05</td> <td>  618.309</td> <td>  179.354</td> <td> 0.000</td> <td>  1.1e+05</td> <td> 1.12e+05</td>\n",
       "</tr>\n",
       "<tr>\n",
       "  <th>x1</th>    <td> 5.144e+04</td> <td>  618.309</td> <td>   83.194</td> <td> 0.000</td> <td> 5.02e+04</td> <td> 5.27e+04</td>\n",
       "</tr>\n",
       "<tr>\n",
       "  <th>x2</th>    <td>  307.2691</td> <td>  618.309</td> <td>    0.497</td> <td> 0.619</td> <td> -904.676</td> <td> 1519.214</td>\n",
       "</tr>\n",
       "<tr>\n",
       "  <th>x3</th>    <td> 6263.8383</td> <td>  618.340</td> <td>   10.130</td> <td> 0.000</td> <td> 5051.833</td> <td> 7475.844</td>\n",
       "</tr>\n",
       "<tr>\n",
       "  <th>x4</th>    <td> 1.788e+04</td> <td>  686.057</td> <td>   26.061</td> <td> 0.000</td> <td> 1.65e+04</td> <td> 1.92e+04</td>\n",
       "</tr>\n",
       "<tr>\n",
       "  <th>x5</th>    <td>-1.727e+04</td> <td>  830.771</td> <td>  -20.784</td> <td> 0.000</td> <td>-1.89e+04</td> <td>-1.56e+04</td>\n",
       "</tr>\n",
       "<tr>\n",
       "  <th>x6</th>    <td>  374.6020</td> <td>  851.201</td> <td>    0.440</td> <td> 0.660</td> <td>-1293.832</td> <td> 2043.036</td>\n",
       "</tr>\n",
       "<tr>\n",
       "  <th>x7</th>    <td> 2.087e+04</td> <td>  972.628</td> <td>   21.455</td> <td> 0.000</td> <td>  1.9e+04</td> <td> 2.28e+04</td>\n",
       "</tr>\n",
       "<tr>\n",
       "  <th>x8</th>    <td> 1.075e+04</td> <td> 1572.779</td> <td>    6.835</td> <td> 0.000</td> <td> 7666.428</td> <td> 1.38e+04</td>\n",
       "</tr>\n",
       "<tr>\n",
       "  <th>x9</th>    <td>         0</td> <td>        0</td> <td>      nan</td> <td>   nan</td> <td>        0</td> <td>        0</td>\n",
       "</tr>\n",
       "<tr>\n",
       "  <th>x10</th>   <td>         0</td> <td>        0</td> <td>      nan</td> <td>   nan</td> <td>        0</td> <td>        0</td>\n",
       "</tr>\n",
       "<tr>\n",
       "  <th>x11</th>   <td>         0</td> <td>        0</td> <td>      nan</td> <td>   nan</td> <td>        0</td> <td>        0</td>\n",
       "</tr>\n",
       "<tr>\n",
       "  <th>x12</th>   <td>         0</td> <td>        0</td> <td>      nan</td> <td>   nan</td> <td>        0</td> <td>        0</td>\n",
       "</tr>\n",
       "<tr>\n",
       "  <th>x13</th>   <td>         0</td> <td>        0</td> <td>      nan</td> <td>   nan</td> <td>        0</td> <td>        0</td>\n",
       "</tr>\n",
       "<tr>\n",
       "  <th>x14</th>   <td>         0</td> <td>        0</td> <td>      nan</td> <td>   nan</td> <td>        0</td> <td>        0</td>\n",
       "</tr>\n",
       "</table>\n",
       "<table class=\"simpletable\">\n",
       "<tr>\n",
       "  <th>Omnibus:</th>       <td>13047.199</td> <th>  Durbin-Watson:     </th>  <td>   2.002</td> \n",
       "</tr>\n",
       "<tr>\n",
       "  <th>Prob(Omnibus):</th>  <td> 0.000</td>   <th>  Jarque-Bera (JB):  </th> <td>351119.557</td>\n",
       "</tr>\n",
       "<tr>\n",
       "  <th>Skew:</th>           <td> 3.140</td>   <th>  Prob(JB):          </th>  <td>    0.00</td> \n",
       "</tr>\n",
       "<tr>\n",
       "  <th>Kurtosis:</th>       <td>23.584</td>   <th>  Cond. No.          </th>  <td>     inf</td> \n",
       "</tr>\n",
       "</table>"
      ],
      "text/plain": [
       "<class 'statsmodels.iolib.summary.Summary'>\n",
       "\"\"\"\n",
       "                            OLS Regression Results                            \n",
       "==============================================================================\n",
       "Dep. Variable:           FamilyIncome   R-squared:                       0.322\n",
       "Model:                            OLS   Adj. R-squared:                  0.322\n",
       "Method:                 Least Squares   F-statistic:                     1080.\n",
       "Date:                Sat, 14 Apr 2018   Prob (F-statistic):               0.00\n",
       "Time:                        14:15:40   Log-Likelihood:            -2.3200e+05\n",
       "No. Observations:               18196   AIC:                         4.640e+05\n",
       "Df Residuals:                   18187   BIC:                         4.641e+05\n",
       "Df Model:                           8                                         \n",
       "Covariance Type:            nonrobust                                         \n",
       "==============================================================================\n",
       "                 coef    std err          t      P>|t|      [0.025      0.975]\n",
       "------------------------------------------------------------------------------\n",
       "const       1.109e+05    618.309    179.354      0.000     1.1e+05    1.12e+05\n",
       "x1          5.144e+04    618.309     83.194      0.000    5.02e+04    5.27e+04\n",
       "x2           307.2691    618.309      0.497      0.619    -904.676    1519.214\n",
       "x3          6263.8383    618.340     10.130      0.000    5051.833    7475.844\n",
       "x4          1.788e+04    686.057     26.061      0.000    1.65e+04    1.92e+04\n",
       "x5         -1.727e+04    830.771    -20.784      0.000   -1.89e+04   -1.56e+04\n",
       "x6           374.6020    851.201      0.440      0.660   -1293.832    2043.036\n",
       "x7          2.087e+04    972.628     21.455      0.000     1.9e+04    2.28e+04\n",
       "x8          1.075e+04   1572.779      6.835      0.000    7666.428    1.38e+04\n",
       "x9                  0          0        nan        nan           0           0\n",
       "x10                 0          0        nan        nan           0           0\n",
       "x11                 0          0        nan        nan           0           0\n",
       "x12                 0          0        nan        nan           0           0\n",
       "x13                 0          0        nan        nan           0           0\n",
       "x14                 0          0        nan        nan           0           0\n",
       "==============================================================================\n",
       "Omnibus:                    13047.199   Durbin-Watson:                   2.002\n",
       "Prob(Omnibus):                  0.000   Jarque-Bera (JB):           351119.557\n",
       "Skew:                           3.140   Prob(JB):                         0.00\n",
       "Kurtosis:                      23.584   Cond. No.                          inf\n",
       "==============================================================================\n",
       "\n",
       "Warnings:\n",
       "[1] Standard Errors assume that the covariance matrix of the errors is correctly specified.\n",
       "[2] The smallest eigenvalue is      0. This might indicate that there are\n",
       "strong multicollinearity problems or that the design matrix is singular.\n",
       "\"\"\""
      ]
     },
     "execution_count": 41,
     "metadata": {},
     "output_type": "execute_result"
    }
   ],
   "source": [
    "X = X_train_fa\n",
    "Y = Y_train\n",
    "## fit a OLS model with intercept on TV and Radio\n",
    "X = sm.add_constant(X)\n",
    "est = sm.OLS(Y, X).fit()\n",
    "\n",
    "est.summary()"
   ]
  },
  {
   "cell_type": "markdown",
   "metadata": {},
   "source": [
    "Now, we will use Factor Analysis on standardized values."
   ]
  },
  {
   "cell_type": "code",
   "execution_count": 42,
   "metadata": {
    "collapsed": true
   },
   "outputs": [],
   "source": [
    "fa = FactorAnalysis()\n",
    "X_train_fa = fa.fit_transform(X_train_std)\n",
    "X_test_fa = fa.transform(X_test_std)"
   ]
  },
  {
   "cell_type": "code",
   "execution_count": 43,
   "metadata": {},
   "outputs": [
    {
     "name": "stderr",
     "output_type": "stream",
     "text": [
      "C:\\Program Files (x86)\\Microsoft Visual Studio\\Shared\\Anaconda3_64\\lib\\site-packages\\statsmodels\\regression\\linear_model.py:1471: RuntimeWarning: divide by zero encountered in double_scalars\n",
      "  return np.sqrt(eigvals[0]/eigvals[-1])\n",
      "C:\\Program Files (x86)\\Microsoft Visual Studio\\Shared\\Anaconda3_64\\lib\\site-packages\\statsmodels\\base\\model.py:1036: RuntimeWarning: invalid value encountered in true_divide\n",
      "  return self.params / self.bse\n",
      "C:\\Program Files (x86)\\Microsoft Visual Studio\\Shared\\Anaconda3_64\\lib\\site-packages\\scipy\\stats\\_distn_infrastructure.py:879: RuntimeWarning: invalid value encountered in greater\n",
      "  return (self.a < x) & (x < self.b)\n",
      "C:\\Program Files (x86)\\Microsoft Visual Studio\\Shared\\Anaconda3_64\\lib\\site-packages\\scipy\\stats\\_distn_infrastructure.py:879: RuntimeWarning: invalid value encountered in less\n",
      "  return (self.a < x) & (x < self.b)\n",
      "C:\\Program Files (x86)\\Microsoft Visual Studio\\Shared\\Anaconda3_64\\lib\\site-packages\\scipy\\stats\\_distn_infrastructure.py:1818: RuntimeWarning: invalid value encountered in less_equal\n",
      "  cond2 = cond0 & (x <= self.a)\n"
     ]
    },
    {
     "data": {
      "text/html": [
       "<table class=\"simpletable\">\n",
       "<caption>OLS Regression Results</caption>\n",
       "<tr>\n",
       "  <th>Dep. Variable:</th>      <td>FamilyIncome</td>   <th>  R-squared:         </th>  <td>   0.297</td>  \n",
       "</tr>\n",
       "<tr>\n",
       "  <th>Model:</th>                   <td>OLS</td>       <th>  Adj. R-squared:    </th>  <td>   0.296</td>  \n",
       "</tr>\n",
       "<tr>\n",
       "  <th>Method:</th>             <td>Least Squares</td>  <th>  F-statistic:       </th>  <td>   1279.</td>  \n",
       "</tr>\n",
       "<tr>\n",
       "  <th>Date:</th>             <td>Sat, 14 Apr 2018</td> <th>  Prob (F-statistic):</th>   <td>  0.00</td>   \n",
       "</tr>\n",
       "<tr>\n",
       "  <th>Time:</th>                 <td>14:18:05</td>     <th>  Log-Likelihood:    </th> <td>-2.3234e+05</td>\n",
       "</tr>\n",
       "<tr>\n",
       "  <th>No. Observations:</th>      <td> 18196</td>      <th>  AIC:               </th>  <td>4.647e+05</td> \n",
       "</tr>\n",
       "<tr>\n",
       "  <th>Df Residuals:</th>          <td> 18189</td>      <th>  BIC:               </th>  <td>4.647e+05</td> \n",
       "</tr>\n",
       "<tr>\n",
       "  <th>Df Model:</th>              <td>     6</td>      <th>                     </th>      <td> </td>     \n",
       "</tr>\n",
       "<tr>\n",
       "  <th>Covariance Type:</th>      <td>nonrobust</td>    <th>                     </th>      <td> </td>     \n",
       "</tr>\n",
       "</table>\n",
       "<table class=\"simpletable\">\n",
       "<tr>\n",
       "    <td></td>       <th>coef</th>     <th>std err</th>      <th>t</th>      <th>P>|t|</th>  <th>[0.025</th>    <th>0.975]</th>  \n",
       "</tr>\n",
       "<tr>\n",
       "  <th>const</th> <td> 1.109e+05</td> <td>  629.759</td> <td>  176.093</td> <td> 0.000</td> <td>  1.1e+05</td> <td> 1.12e+05</td>\n",
       "</tr>\n",
       "<tr>\n",
       "  <th>x1</th>    <td>-4.243e+04</td> <td>  722.704</td> <td>  -58.707</td> <td> 0.000</td> <td>-4.38e+04</td> <td> -4.1e+04</td>\n",
       "</tr>\n",
       "<tr>\n",
       "  <th>x2</th>    <td>  4.82e+04</td> <td>  777.258</td> <td>   62.016</td> <td> 0.000</td> <td> 4.67e+04</td> <td> 4.97e+04</td>\n",
       "</tr>\n",
       "<tr>\n",
       "  <th>x3</th>    <td> 1.188e+04</td> <td>  869.471</td> <td>   13.660</td> <td> 0.000</td> <td> 1.02e+04</td> <td> 1.36e+04</td>\n",
       "</tr>\n",
       "<tr>\n",
       "  <th>x4</th>    <td>-1.021e+04</td> <td>  926.211</td> <td>  -11.024</td> <td> 0.000</td> <td> -1.2e+04</td> <td>-8394.796</td>\n",
       "</tr>\n",
       "<tr>\n",
       "  <th>x5</th>    <td>-1358.2937</td> <td> 1112.100</td> <td>   -1.221</td> <td> 0.222</td> <td>-3538.114</td> <td>  821.527</td>\n",
       "</tr>\n",
       "<tr>\n",
       "  <th>x6</th>    <td>-1.685e+04</td> <td> 1989.893</td> <td>   -8.470</td> <td> 0.000</td> <td>-2.08e+04</td> <td> -1.3e+04</td>\n",
       "</tr>\n",
       "<tr>\n",
       "  <th>x7</th>    <td>         0</td> <td>        0</td> <td>      nan</td> <td>   nan</td> <td>        0</td> <td>        0</td>\n",
       "</tr>\n",
       "<tr>\n",
       "  <th>x8</th>    <td>         0</td> <td>        0</td> <td>      nan</td> <td>   nan</td> <td>        0</td> <td>        0</td>\n",
       "</tr>\n",
       "<tr>\n",
       "  <th>x9</th>    <td>         0</td> <td>        0</td> <td>      nan</td> <td>   nan</td> <td>        0</td> <td>        0</td>\n",
       "</tr>\n",
       "<tr>\n",
       "  <th>x10</th>   <td>         0</td> <td>        0</td> <td>      nan</td> <td>   nan</td> <td>        0</td> <td>        0</td>\n",
       "</tr>\n",
       "<tr>\n",
       "  <th>x11</th>   <td>         0</td> <td>        0</td> <td>      nan</td> <td>   nan</td> <td>        0</td> <td>        0</td>\n",
       "</tr>\n",
       "<tr>\n",
       "  <th>x12</th>   <td>         0</td> <td>        0</td> <td>      nan</td> <td>   nan</td> <td>        0</td> <td>        0</td>\n",
       "</tr>\n",
       "<tr>\n",
       "  <th>x13</th>   <td>         0</td> <td>        0</td> <td>      nan</td> <td>   nan</td> <td>        0</td> <td>        0</td>\n",
       "</tr>\n",
       "<tr>\n",
       "  <th>x14</th>   <td>         0</td> <td>        0</td> <td>      nan</td> <td>   nan</td> <td>        0</td> <td>        0</td>\n",
       "</tr>\n",
       "</table>\n",
       "<table class=\"simpletable\">\n",
       "<tr>\n",
       "  <th>Omnibus:</th>       <td>13026.187</td> <th>  Durbin-Watson:     </th>  <td>   2.005</td> \n",
       "</tr>\n",
       "<tr>\n",
       "  <th>Prob(Omnibus):</th>  <td> 0.000</td>   <th>  Jarque-Bera (JB):  </th> <td>328576.647</td>\n",
       "</tr>\n",
       "<tr>\n",
       "  <th>Skew:</th>           <td> 3.158</td>   <th>  Prob(JB):          </th>  <td>    0.00</td> \n",
       "</tr>\n",
       "<tr>\n",
       "  <th>Kurtosis:</th>       <td>22.837</td>   <th>  Cond. No.          </th>  <td>     inf</td> \n",
       "</tr>\n",
       "</table>"
      ],
      "text/plain": [
       "<class 'statsmodels.iolib.summary.Summary'>\n",
       "\"\"\"\n",
       "                            OLS Regression Results                            \n",
       "==============================================================================\n",
       "Dep. Variable:           FamilyIncome   R-squared:                       0.297\n",
       "Model:                            OLS   Adj. R-squared:                  0.296\n",
       "Method:                 Least Squares   F-statistic:                     1279.\n",
       "Date:                Sat, 14 Apr 2018   Prob (F-statistic):               0.00\n",
       "Time:                        14:18:05   Log-Likelihood:            -2.3234e+05\n",
       "No. Observations:               18196   AIC:                         4.647e+05\n",
       "Df Residuals:                   18189   BIC:                         4.647e+05\n",
       "Df Model:                           6                                         \n",
       "Covariance Type:            nonrobust                                         \n",
       "==============================================================================\n",
       "                 coef    std err          t      P>|t|      [0.025      0.975]\n",
       "------------------------------------------------------------------------------\n",
       "const       1.109e+05    629.759    176.093      0.000     1.1e+05    1.12e+05\n",
       "x1         -4.243e+04    722.704    -58.707      0.000   -4.38e+04    -4.1e+04\n",
       "x2           4.82e+04    777.258     62.016      0.000    4.67e+04    4.97e+04\n",
       "x3          1.188e+04    869.471     13.660      0.000    1.02e+04    1.36e+04\n",
       "x4         -1.021e+04    926.211    -11.024      0.000    -1.2e+04   -8394.796\n",
       "x5         -1358.2937   1112.100     -1.221      0.222   -3538.114     821.527\n",
       "x6         -1.685e+04   1989.893     -8.470      0.000   -2.08e+04    -1.3e+04\n",
       "x7                  0          0        nan        nan           0           0\n",
       "x8                  0          0        nan        nan           0           0\n",
       "x9                  0          0        nan        nan           0           0\n",
       "x10                 0          0        nan        nan           0           0\n",
       "x11                 0          0        nan        nan           0           0\n",
       "x12                 0          0        nan        nan           0           0\n",
       "x13                 0          0        nan        nan           0           0\n",
       "x14                 0          0        nan        nan           0           0\n",
       "==============================================================================\n",
       "Omnibus:                    13026.187   Durbin-Watson:                   2.005\n",
       "Prob(Omnibus):                  0.000   Jarque-Bera (JB):           328576.647\n",
       "Skew:                           3.158   Prob(JB):                         0.00\n",
       "Kurtosis:                      22.837   Cond. No.                          inf\n",
       "==============================================================================\n",
       "\n",
       "Warnings:\n",
       "[1] Standard Errors assume that the covariance matrix of the errors is correctly specified.\n",
       "[2] The smallest eigenvalue is      0. This might indicate that there are\n",
       "strong multicollinearity problems or that the design matrix is singular.\n",
       "\"\"\""
      ]
     },
     "execution_count": 43,
     "metadata": {},
     "output_type": "execute_result"
    }
   ],
   "source": [
    "X = X_train_fa\n",
    "Y = Y_train\n",
    "## fit a OLS model with intercept on TV and Radio\n",
    "X = sm.add_constant(X)\n",
    "est = sm.OLS(Y, X).fit()\n",
    "\n",
    "est.summary()"
   ]
  },
  {
   "cell_type": "markdown",
   "metadata": {},
   "source": [
    "Not so good results again. It is not worth it to test our predictions."
   ]
  },
  {
   "cell_type": "code",
   "execution_count": null,
   "metadata": {
    "collapsed": true
   },
   "outputs": [],
   "source": []
  }
 ],
 "metadata": {
  "kernelspec": {
   "display_name": "Python 3",
   "language": "python",
   "name": "python3"
  },
  "language_info": {
   "codemirror_mode": {
    "name": "ipython",
    "version": 3
   },
   "file_extension": ".py",
   "mimetype": "text/x-python",
   "name": "python",
   "nbconvert_exporter": "python",
   "pygments_lexer": "ipython3",
   "version": "3.6.2"
  }
 },
 "nbformat": 4,
 "nbformat_minor": 2
}
