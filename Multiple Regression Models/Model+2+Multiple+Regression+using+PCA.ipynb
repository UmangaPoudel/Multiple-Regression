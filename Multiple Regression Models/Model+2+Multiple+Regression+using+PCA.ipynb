{
 "cells": [
  {
   "cell_type": "code",
   "execution_count": 1,
   "metadata": {
    "collapsed": true
   },
   "outputs": [],
   "source": [
    "import pandas as pd\n",
    "import numpy as np\n",
    "import matplotlib.pyplot as plt\n",
    "%matplotlib inline"
   ]
  },
  {
   "cell_type": "code",
   "execution_count": 2,
   "metadata": {
    "collapsed": true
   },
   "outputs": [],
   "source": [
    "data = pd.read_csv('acs_ny.csv')"
   ]
  },
  {
   "cell_type": "code",
   "execution_count": 3,
   "metadata": {},
   "outputs": [
    {
     "data": {
      "text/html": [
       "<div>\n",
       "<style>\n",
       "    .dataframe thead tr:only-child th {\n",
       "        text-align: right;\n",
       "    }\n",
       "\n",
       "    .dataframe thead th {\n",
       "        text-align: left;\n",
       "    }\n",
       "\n",
       "    .dataframe tbody tr th {\n",
       "        vertical-align: top;\n",
       "    }\n",
       "</style>\n",
       "<table border=\"1\" class=\"dataframe\">\n",
       "  <thead>\n",
       "    <tr style=\"text-align: right;\">\n",
       "      <th></th>\n",
       "      <th>Acres</th>\n",
       "      <th>FamilyIncome</th>\n",
       "      <th>FamilyType</th>\n",
       "      <th>NumBedrooms</th>\n",
       "      <th>NumChildren</th>\n",
       "      <th>NumPeople</th>\n",
       "      <th>NumRooms</th>\n",
       "      <th>NumUnits</th>\n",
       "      <th>NumVehicles</th>\n",
       "      <th>NumWorkers</th>\n",
       "      <th>OwnRent</th>\n",
       "      <th>YearBuilt</th>\n",
       "      <th>HouseCosts</th>\n",
       "      <th>ElectricBill</th>\n",
       "      <th>FoodStamp</th>\n",
       "      <th>HeatingFuel</th>\n",
       "      <th>Insurance</th>\n",
       "      <th>Language</th>\n",
       "    </tr>\n",
       "  </thead>\n",
       "  <tbody>\n",
       "    <tr>\n",
       "      <th>0</th>\n",
       "      <td>10-Jan</td>\n",
       "      <td>150</td>\n",
       "      <td>Married</td>\n",
       "      <td>4</td>\n",
       "      <td>1</td>\n",
       "      <td>3</td>\n",
       "      <td>9</td>\n",
       "      <td>Single detached</td>\n",
       "      <td>1</td>\n",
       "      <td>0</td>\n",
       "      <td>Mortgage</td>\n",
       "      <td>1950-1959</td>\n",
       "      <td>1800</td>\n",
       "      <td>90</td>\n",
       "      <td>No</td>\n",
       "      <td>Gas</td>\n",
       "      <td>2500</td>\n",
       "      <td>English</td>\n",
       "    </tr>\n",
       "    <tr>\n",
       "      <th>1</th>\n",
       "      <td>10-Jan</td>\n",
       "      <td>180</td>\n",
       "      <td>Female Head</td>\n",
       "      <td>3</td>\n",
       "      <td>2</td>\n",
       "      <td>4</td>\n",
       "      <td>6</td>\n",
       "      <td>Single detached</td>\n",
       "      <td>2</td>\n",
       "      <td>0</td>\n",
       "      <td>Rented</td>\n",
       "      <td>Before 1939</td>\n",
       "      <td>850</td>\n",
       "      <td>90</td>\n",
       "      <td>No</td>\n",
       "      <td>Oil</td>\n",
       "      <td>0</td>\n",
       "      <td>English</td>\n",
       "    </tr>\n",
       "    <tr>\n",
       "      <th>2</th>\n",
       "      <td>10-Jan</td>\n",
       "      <td>280</td>\n",
       "      <td>Female Head</td>\n",
       "      <td>4</td>\n",
       "      <td>0</td>\n",
       "      <td>2</td>\n",
       "      <td>8</td>\n",
       "      <td>Single detached</td>\n",
       "      <td>3</td>\n",
       "      <td>1</td>\n",
       "      <td>Mortgage</td>\n",
       "      <td>2000-2004</td>\n",
       "      <td>2600</td>\n",
       "      <td>260</td>\n",
       "      <td>No</td>\n",
       "      <td>Oil</td>\n",
       "      <td>6600</td>\n",
       "      <td>Other European</td>\n",
       "    </tr>\n",
       "    <tr>\n",
       "      <th>3</th>\n",
       "      <td>10-Jan</td>\n",
       "      <td>330</td>\n",
       "      <td>Female Head</td>\n",
       "      <td>2</td>\n",
       "      <td>1</td>\n",
       "      <td>2</td>\n",
       "      <td>4</td>\n",
       "      <td>Single detached</td>\n",
       "      <td>1</td>\n",
       "      <td>0</td>\n",
       "      <td>Rented</td>\n",
       "      <td>1950-1959</td>\n",
       "      <td>1800</td>\n",
       "      <td>140</td>\n",
       "      <td>No</td>\n",
       "      <td>Oil</td>\n",
       "      <td>0</td>\n",
       "      <td>English</td>\n",
       "    </tr>\n",
       "    <tr>\n",
       "      <th>4</th>\n",
       "      <td>10-Jan</td>\n",
       "      <td>330</td>\n",
       "      <td>Male Head</td>\n",
       "      <td>3</td>\n",
       "      <td>1</td>\n",
       "      <td>2</td>\n",
       "      <td>5</td>\n",
       "      <td>Single attached</td>\n",
       "      <td>1</td>\n",
       "      <td>0</td>\n",
       "      <td>Mortgage</td>\n",
       "      <td>Before 1939</td>\n",
       "      <td>860</td>\n",
       "      <td>150</td>\n",
       "      <td>No</td>\n",
       "      <td>Gas</td>\n",
       "      <td>660</td>\n",
       "      <td>Spanish</td>\n",
       "    </tr>\n",
       "  </tbody>\n",
       "</table>\n",
       "</div>"
      ],
      "text/plain": [
       "    Acres  FamilyIncome   FamilyType  NumBedrooms  NumChildren  NumPeople  \\\n",
       "0  10-Jan           150      Married            4            1          3   \n",
       "1  10-Jan           180  Female Head            3            2          4   \n",
       "2  10-Jan           280  Female Head            4            0          2   \n",
       "3  10-Jan           330  Female Head            2            1          2   \n",
       "4  10-Jan           330    Male Head            3            1          2   \n",
       "\n",
       "   NumRooms         NumUnits  NumVehicles  NumWorkers   OwnRent    YearBuilt  \\\n",
       "0         9  Single detached            1           0  Mortgage    1950-1959   \n",
       "1         6  Single detached            2           0    Rented  Before 1939   \n",
       "2         8  Single detached            3           1  Mortgage    2000-2004   \n",
       "3         4  Single detached            1           0    Rented    1950-1959   \n",
       "4         5  Single attached            1           0  Mortgage  Before 1939   \n",
       "\n",
       "   HouseCosts  ElectricBill FoodStamp HeatingFuel  Insurance        Language  \n",
       "0        1800            90        No         Gas       2500         English  \n",
       "1         850            90        No         Oil          0         English  \n",
       "2        2600           260        No         Oil       6600  Other European  \n",
       "3        1800           140        No         Oil          0         English  \n",
       "4         860           150        No         Gas        660         Spanish  "
      ]
     },
     "execution_count": 3,
     "metadata": {},
     "output_type": "execute_result"
    }
   ],
   "source": [
    "data.head()"
   ]
  },
  {
   "cell_type": "code",
   "execution_count": 4,
   "metadata": {
    "collapsed": true
   },
   "outputs": [],
   "source": [
    "# data.info()\n",
    "# data.describe()"
   ]
  },
  {
   "cell_type": "code",
   "execution_count": 5,
   "metadata": {
    "collapsed": true
   },
   "outputs": [],
   "source": [
    "# data.isnull().sum()"
   ]
  },
  {
   "cell_type": "code",
   "execution_count": 6,
   "metadata": {
    "collapsed": true
   },
   "outputs": [],
   "source": [
    "x = data.iloc[:, 2:]\n",
    "y = data.iloc[:, 1:2]"
   ]
  },
  {
   "cell_type": "code",
   "execution_count": 7,
   "metadata": {
    "collapsed": true
   },
   "outputs": [],
   "source": [
    "encoded_x = pd.get_dummies(x,drop_first = True)"
   ]
  },
  {
   "cell_type": "code",
   "execution_count": 8,
   "metadata": {
    "collapsed": true
   },
   "outputs": [],
   "source": [
    "from sklearn.model_selection import train_test_split\n",
    "X_train, X_test, Y_train, Y_test = train_test_split(encoded_x, y, test_size = 0.2, random_state = 0)"
   ]
  },
  {
   "cell_type": "code",
   "execution_count": 9,
   "metadata": {
    "collapsed": true
   },
   "outputs": [],
   "source": [
    "from sklearn.preprocessing import StandardScaler\n",
    "sc = StandardScaler()\n",
    "X_train = sc.fit_transform(X_train)\n",
    "X_test = sc.transform(X_test)"
   ]
  },
  {
   "cell_type": "code",
   "execution_count": 10,
   "metadata": {
    "collapsed": true
   },
   "outputs": [],
   "source": [
    "from sklearn.decomposition import PCA\n",
    "pca = PCA(n_components = None)\n",
    "X_train = pca.fit_transform(X_train)\n",
    "X_test = pca.transform(X_test)\n",
    "explained_variance = pca.explained_variance_ratio_"
   ]
  },
  {
   "cell_type": "markdown",
   "metadata": {},
   "source": [
    "21 PCA components would explain 70% of the variance. So, n_components = 20"
   ]
  },
  {
   "cell_type": "code",
   "execution_count": 11,
   "metadata": {},
   "outputs": [],
   "source": [
    "pca = PCA(n_components = 21)\n",
    "X_train = pca.fit_transform(X_train)\n",
    "X_test = pca.transform(X_test)\n",
    "explained_variance = pca.explained_variance_ratio_"
   ]
  },
  {
   "cell_type": "code",
   "execution_count": 12,
   "metadata": {},
   "outputs": [
    {
     "data": {
      "text/plain": [
       "0.70782659642493506"
      ]
     },
     "execution_count": 12,
     "metadata": {},
     "output_type": "execute_result"
    }
   ],
   "source": [
    "explained_variance.sum()"
   ]
  },
  {
   "cell_type": "code",
   "execution_count": 13,
   "metadata": {
    "collapsed": true
   },
   "outputs": [],
   "source": [
    "from sklearn.linear_model import LinearRegression\n",
    "regression = LinearRegression()\n",
    "lm = regression.fit(X_train,Y_train)"
   ]
  },
  {
   "cell_type": "code",
   "execution_count": 14,
   "metadata": {
    "collapsed": true
   },
   "outputs": [],
   "source": [
    "y_pred = regression.predict(X_test)"
   ]
  },
  {
   "cell_type": "code",
   "execution_count": 15,
   "metadata": {},
   "outputs": [
    {
     "name": "stdout",
     "output_type": "stream",
     "text": [
      "[ 110896.03566718]\n",
      "[[ 25740.49144811   6826.07957203 -14733.98755492   6646.11675194\n",
      "   -4935.35405931  10827.15269498  -1862.35518609  -3925.32898871\n",
      "   -2716.33715587   2475.43489519   1623.68203507   1465.18796052\n",
      "     300.53492013   -565.93740687  -1008.7609598    1314.24719896\n",
      "    2488.7288067   -1935.96478188   2705.99290428   1044.20067516\n",
      "    2087.79900133]]\n"
     ]
    }
   ],
   "source": [
    "print(lm.intercept_)\n",
    "print(lm.coef_)"
   ]
  },
  {
   "cell_type": "code",
   "execution_count": 16,
   "metadata": {
    "collapsed": true
   },
   "outputs": [],
   "source": [
    "import sklearn"
   ]
  },
  {
   "cell_type": "code",
   "execution_count": 17,
   "metadata": {},
   "outputs": [
    {
     "data": {
      "text/plain": [
       "0.30358744933024473"
      ]
     },
     "execution_count": 17,
     "metadata": {},
     "output_type": "execute_result"
    }
   ],
   "source": [
    "#we will take out the R^2 value\n",
    "sklearn.metrics.r2_score(Y_test, y_pred)"
   ]
  },
  {
   "cell_type": "code",
   "execution_count": 18,
   "metadata": {},
   "outputs": [
    {
     "name": "stderr",
     "output_type": "stream",
     "text": [
      "C:\\Program Files (x86)\\Microsoft Visual Studio\\Shared\\Anaconda3_64\\lib\\site-packages\\statsmodels\\compat\\pandas.py:56: FutureWarning: The pandas.core.datetools module is deprecated and will be removed in a future version. Please use the pandas.tseries module instead.\n",
      "  from pandas.core import datetools\n"
     ]
    }
   ],
   "source": [
    "import statsmodels.api as sm"
   ]
  },
  {
   "cell_type": "code",
   "execution_count": 19,
   "metadata": {},
   "outputs": [
    {
     "data": {
      "text/html": [
       "<table class=\"simpletable\">\n",
       "<caption>OLS Regression Results</caption>\n",
       "<tr>\n",
       "  <th>Dep. Variable:</th>      <td>FamilyIncome</td>   <th>  R-squared:         </th>  <td>   0.291</td>  \n",
       "</tr>\n",
       "<tr>\n",
       "  <th>Model:</th>                   <td>OLS</td>       <th>  Adj. R-squared:    </th>  <td>   0.291</td>  \n",
       "</tr>\n",
       "<tr>\n",
       "  <th>Method:</th>             <td>Least Squares</td>  <th>  F-statistic:       </th>  <td>   355.8</td>  \n",
       "</tr>\n",
       "<tr>\n",
       "  <th>Date:</th>             <td>Sat, 14 Apr 2018</td> <th>  Prob (F-statistic):</th>   <td>  0.00</td>   \n",
       "</tr>\n",
       "<tr>\n",
       "  <th>Time:</th>                 <td>00:44:04</td>     <th>  Log-Likelihood:    </th> <td>-2.3241e+05</td>\n",
       "</tr>\n",
       "<tr>\n",
       "  <th>No. Observations:</th>      <td> 18196</td>      <th>  AIC:               </th>  <td>4.649e+05</td> \n",
       "</tr>\n",
       "<tr>\n",
       "  <th>Df Residuals:</th>          <td> 18174</td>      <th>  BIC:               </th>  <td>4.650e+05</td> \n",
       "</tr>\n",
       "<tr>\n",
       "  <th>Df Model:</th>              <td>    21</td>      <th>                     </th>      <td> </td>     \n",
       "</tr>\n",
       "<tr>\n",
       "  <th>Covariance Type:</th>      <td>nonrobust</td>    <th>                     </th>      <td> </td>     \n",
       "</tr>\n",
       "</table>\n",
       "<table class=\"simpletable\">\n",
       "<tr>\n",
       "    <td></td>       <th>coef</th>     <th>std err</th>      <th>t</th>      <th>P>|t|</th>  <th>[0.025</th>    <th>0.975]</th>  \n",
       "</tr>\n",
       "<tr>\n",
       "  <th>const</th> <td> 1.109e+05</td> <td>  632.424</td> <td>  175.351</td> <td> 0.000</td> <td>  1.1e+05</td> <td> 1.12e+05</td>\n",
       "</tr>\n",
       "<tr>\n",
       "  <th>x1</th>    <td> 2.574e+04</td> <td>  355.196</td> <td>   72.468</td> <td> 0.000</td> <td>  2.5e+04</td> <td> 2.64e+04</td>\n",
       "</tr>\n",
       "<tr>\n",
       "  <th>x2</th>    <td> 6826.0796</td> <td>  399.064</td> <td>   17.105</td> <td> 0.000</td> <td> 6043.877</td> <td> 7608.282</td>\n",
       "</tr>\n",
       "<tr>\n",
       "  <th>x3</th>    <td>-1.473e+04</td> <td>  462.964</td> <td>  -31.825</td> <td> 0.000</td> <td>-1.56e+04</td> <td>-1.38e+04</td>\n",
       "</tr>\n",
       "<tr>\n",
       "  <th>x4</th>    <td> 6646.1168</td> <td>  474.137</td> <td>   14.017</td> <td> 0.000</td> <td> 5716.764</td> <td> 7575.470</td>\n",
       "</tr>\n",
       "<tr>\n",
       "  <th>x5</th>    <td>-4935.3541</td> <td>  497.710</td> <td>   -9.916</td> <td> 0.000</td> <td>-5910.913</td> <td>-3959.795</td>\n",
       "</tr>\n",
       "<tr>\n",
       "  <th>x6</th>    <td> 1.083e+04</td> <td>  515.938</td> <td>   20.985</td> <td> 0.000</td> <td> 9815.866</td> <td> 1.18e+04</td>\n",
       "</tr>\n",
       "<tr>\n",
       "  <th>x7</th>    <td>-1862.3552</td> <td>  550.660</td> <td>   -3.382</td> <td> 0.001</td> <td>-2941.700</td> <td> -783.010</td>\n",
       "</tr>\n",
       "<tr>\n",
       "  <th>x8</th>    <td>-3925.3290</td> <td>  568.021</td> <td>   -6.911</td> <td> 0.000</td> <td>-5038.704</td> <td>-2811.954</td>\n",
       "</tr>\n",
       "<tr>\n",
       "  <th>x9</th>    <td>-2716.3372</td> <td>  575.780</td> <td>   -4.718</td> <td> 0.000</td> <td>-3844.920</td> <td>-1587.754</td>\n",
       "</tr>\n",
       "<tr>\n",
       "  <th>x10</th>   <td> 2475.4349</td> <td>  588.094</td> <td>    4.209</td> <td> 0.000</td> <td> 1322.714</td> <td> 3628.155</td>\n",
       "</tr>\n",
       "<tr>\n",
       "  <th>x11</th>   <td> 1623.6820</td> <td>  593.402</td> <td>    2.736</td> <td> 0.006</td> <td>  460.558</td> <td> 2786.806</td>\n",
       "</tr>\n",
       "<tr>\n",
       "  <th>x12</th>   <td> 1465.1880</td> <td>  596.525</td> <td>    2.456</td> <td> 0.014</td> <td>  295.943</td> <td> 2634.433</td>\n",
       "</tr>\n",
       "<tr>\n",
       "  <th>x13</th>   <td>  300.5349</td> <td>  600.576</td> <td>    0.500</td> <td> 0.617</td> <td> -876.651</td> <td> 1477.721</td>\n",
       "</tr>\n",
       "<tr>\n",
       "  <th>x14</th>   <td> -565.9374</td> <td>  605.755</td> <td>   -0.934</td> <td> 0.350</td> <td>-1753.275</td> <td>  621.400</td>\n",
       "</tr>\n",
       "<tr>\n",
       "  <th>x15</th>   <td>-1008.7610</td> <td>  614.263</td> <td>   -1.642</td> <td> 0.101</td> <td>-2212.775</td> <td>  195.253</td>\n",
       "</tr>\n",
       "<tr>\n",
       "  <th>x16</th>   <td> 1314.2472</td> <td>  618.231</td> <td>    2.126</td> <td> 0.034</td> <td>  102.456</td> <td> 2526.038</td>\n",
       "</tr>\n",
       "<tr>\n",
       "  <th>x17</th>   <td> 2488.7288</td> <td>  621.639</td> <td>    4.003</td> <td> 0.000</td> <td> 1270.257</td> <td> 3707.201</td>\n",
       "</tr>\n",
       "<tr>\n",
       "  <th>x18</th>   <td>-1935.9648</td> <td>  625.307</td> <td>   -3.096</td> <td> 0.002</td> <td>-3161.626</td> <td> -710.303</td>\n",
       "</tr>\n",
       "<tr>\n",
       "  <th>x19</th>   <td> 2705.9929</td> <td>  626.278</td> <td>    4.321</td> <td> 0.000</td> <td> 1478.429</td> <td> 3933.556</td>\n",
       "</tr>\n",
       "<tr>\n",
       "  <th>x20</th>   <td> 1044.2007</td> <td>  629.683</td> <td>    1.658</td> <td> 0.097</td> <td> -190.038</td> <td> 2278.440</td>\n",
       "</tr>\n",
       "<tr>\n",
       "  <th>x21</th>   <td> 2087.7990</td> <td>  631.170</td> <td>    3.308</td> <td> 0.001</td> <td>  850.647</td> <td> 3324.951</td>\n",
       "</tr>\n",
       "</table>\n",
       "<table class=\"simpletable\">\n",
       "<tr>\n",
       "  <th>Omnibus:</th>       <td>13122.618</td> <th>  Durbin-Watson:     </th>  <td>   2.005</td> \n",
       "</tr>\n",
       "<tr>\n",
       "  <th>Prob(Omnibus):</th>  <td> 0.000</td>   <th>  Jarque-Bera (JB):  </th> <td>334621.308</td>\n",
       "</tr>\n",
       "<tr>\n",
       "  <th>Skew:</th>           <td> 3.189</td>   <th>  Prob(JB):          </th>  <td>    0.00</td> \n",
       "</tr>\n",
       "<tr>\n",
       "  <th>Kurtosis:</th>       <td>23.017</td>   <th>  Cond. No.          </th>  <td>    1.78</td> \n",
       "</tr>\n",
       "</table>"
      ],
      "text/plain": [
       "<class 'statsmodels.iolib.summary.Summary'>\n",
       "\"\"\"\n",
       "                            OLS Regression Results                            \n",
       "==============================================================================\n",
       "Dep. Variable:           FamilyIncome   R-squared:                       0.291\n",
       "Model:                            OLS   Adj. R-squared:                  0.291\n",
       "Method:                 Least Squares   F-statistic:                     355.8\n",
       "Date:                Sat, 14 Apr 2018   Prob (F-statistic):               0.00\n",
       "Time:                        00:44:04   Log-Likelihood:            -2.3241e+05\n",
       "No. Observations:               18196   AIC:                         4.649e+05\n",
       "Df Residuals:                   18174   BIC:                         4.650e+05\n",
       "Df Model:                          21                                         \n",
       "Covariance Type:            nonrobust                                         \n",
       "==============================================================================\n",
       "                 coef    std err          t      P>|t|      [0.025      0.975]\n",
       "------------------------------------------------------------------------------\n",
       "const       1.109e+05    632.424    175.351      0.000     1.1e+05    1.12e+05\n",
       "x1          2.574e+04    355.196     72.468      0.000     2.5e+04    2.64e+04\n",
       "x2          6826.0796    399.064     17.105      0.000    6043.877    7608.282\n",
       "x3         -1.473e+04    462.964    -31.825      0.000   -1.56e+04   -1.38e+04\n",
       "x4          6646.1168    474.137     14.017      0.000    5716.764    7575.470\n",
       "x5         -4935.3541    497.710     -9.916      0.000   -5910.913   -3959.795\n",
       "x6          1.083e+04    515.938     20.985      0.000    9815.866    1.18e+04\n",
       "x7         -1862.3552    550.660     -3.382      0.001   -2941.700    -783.010\n",
       "x8         -3925.3290    568.021     -6.911      0.000   -5038.704   -2811.954\n",
       "x9         -2716.3372    575.780     -4.718      0.000   -3844.920   -1587.754\n",
       "x10         2475.4349    588.094      4.209      0.000    1322.714    3628.155\n",
       "x11         1623.6820    593.402      2.736      0.006     460.558    2786.806\n",
       "x12         1465.1880    596.525      2.456      0.014     295.943    2634.433\n",
       "x13          300.5349    600.576      0.500      0.617    -876.651    1477.721\n",
       "x14         -565.9374    605.755     -0.934      0.350   -1753.275     621.400\n",
       "x15        -1008.7610    614.263     -1.642      0.101   -2212.775     195.253\n",
       "x16         1314.2472    618.231      2.126      0.034     102.456    2526.038\n",
       "x17         2488.7288    621.639      4.003      0.000    1270.257    3707.201\n",
       "x18        -1935.9648    625.307     -3.096      0.002   -3161.626    -710.303\n",
       "x19         2705.9929    626.278      4.321      0.000    1478.429    3933.556\n",
       "x20         1044.2007    629.683      1.658      0.097    -190.038    2278.440\n",
       "x21         2087.7990    631.170      3.308      0.001     850.647    3324.951\n",
       "==============================================================================\n",
       "Omnibus:                    13122.618   Durbin-Watson:                   2.005\n",
       "Prob(Omnibus):                  0.000   Jarque-Bera (JB):           334621.308\n",
       "Skew:                           3.189   Prob(JB):                         0.00\n",
       "Kurtosis:                      23.017   Cond. No.                         1.78\n",
       "==============================================================================\n",
       "\n",
       "Warnings:\n",
       "[1] Standard Errors assume that the covariance matrix of the errors is correctly specified.\n",
       "\"\"\""
      ]
     },
     "execution_count": 19,
     "metadata": {},
     "output_type": "execute_result"
    }
   ],
   "source": [
    "X = X_train\n",
    "Y = Y_train\n",
    "## fit a OLS model with intercept on TV and Radio\n",
    "X = sm.add_constant(X)\n",
    "est = sm.OLS(Y, X).fit()\n",
    "\n",
    "est.summary()"
   ]
  },
  {
   "cell_type": "code",
   "execution_count": null,
   "metadata": {
    "collapsed": true
   },
   "outputs": [],
   "source": []
  }
 ],
 "metadata": {
  "kernelspec": {
   "display_name": "Python 3",
   "language": "python",
   "name": "python3"
  },
  "language_info": {
   "codemirror_mode": {
    "name": "ipython",
    "version": 3
   },
   "file_extension": ".py",
   "mimetype": "text/x-python",
   "name": "python",
   "nbconvert_exporter": "python",
   "pygments_lexer": "ipython3",
   "version": "3.6.2"
  }
 },
 "nbformat": 4,
 "nbformat_minor": 2
}
